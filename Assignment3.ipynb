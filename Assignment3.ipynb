{
  "nbformat": 4,
  "nbformat_minor": 0,
  "metadata": {
    "colab": {
      "provenance": []
    },
    "kernelspec": {
      "name": "python3",
      "display_name": "Python 3"
    },
    "language_info": {
      "name": "python"
    }
  },
  "cells": [
    {
      "cell_type": "markdown",
      "source": [
        "Ques 1"
      ],
      "metadata": {
        "id": "B1fk3tCbH1Y-"
      }
    },
    {
      "cell_type": "markdown",
      "source": [
        "Keyword are the pre defined words in programming language. Every keyword have some specific(single function) function to do. we can not use keyword to define a variable. some common examples of keyword are True,False,Boolean,if,break,continue,def,import etc.  "
      ],
      "metadata": {
        "id": "DfR5L79sH5cp"
      }
    },
    {
      "cell_type": "markdown",
      "source": [
        "Ques 2"
      ],
      "metadata": {
        "id": "pdO1VcvUJEni"
      }
    },
    {
      "cell_type": "markdown",
      "source": [
        "python identifiers is a name give to identify a variable,class etc.when we want to give a name to variable we use identifiers. some important point have to be in mind when you are identifying variables\n",
        "1. you can not start identifiers with numeric character\n",
        "2. you can not use special character\n",
        "3. you can not use space while creating a identifiers"
      ],
      "metadata": {
        "id": "JCygxE7wX8Rn"
      }
    },
    {
      "cell_type": "code",
      "source": [
        "name = \"Tushar\"\n",
        "name"
      ],
      "metadata": {
        "colab": {
          "base_uri": "https://localhost:8080/",
          "height": 35
        },
        "id": "62eAuFWTZgBB",
        "outputId": "c1314a38-3e8d-49c4-82fa-322bcc0e4d1f"
      },
      "execution_count": 6,
      "outputs": [
        {
          "output_type": "execute_result",
          "data": {
            "text/plain": [
              "'Tushar'"
            ],
            "application/vnd.google.colaboratory.intrinsic+json": {
              "type": "string"
            }
          },
          "metadata": {},
          "execution_count": 6
        }
      ]
    },
    {
      "cell_type": "code",
      "source": [
        "my_name = \"Tushar\"\n",
        "my_name"
      ],
      "metadata": {
        "colab": {
          "base_uri": "https://localhost:8080/",
          "height": 35
        },
        "id": "DR9H5fZ_ZlbC",
        "outputId": "48196f7e-8830-483a-9020-7d6309a76fd0"
      },
      "execution_count": 7,
      "outputs": [
        {
          "output_type": "execute_result",
          "data": {
            "text/plain": [
              "'Tushar'"
            ],
            "application/vnd.google.colaboratory.intrinsic+json": {
              "type": "string"
            }
          },
          "metadata": {},
          "execution_count": 7
        }
      ]
    },
    {
      "cell_type": "markdown",
      "source": [
        "Ques 3"
      ],
      "metadata": {
        "id": "jsG1zEWTZS5B"
      }
    },
    {
      "cell_type": "markdown",
      "source": [
        "comments are used to make the code readable for the devloper . in python we can write a comment using # in starting or using triple''' commas. comments help the devloper to under the purpose of that code block"
      ],
      "metadata": {
        "id": "uRMD5nRkZUtU"
      }
    },
    {
      "cell_type": "markdown",
      "source": [
        "Ques 4"
      ],
      "metadata": {
        "id": "bVIJZROPaT3q"
      }
    },
    {
      "cell_type": "markdown",
      "source": [
        "proper indentation is very important in python\n",
        "bcz it helps in differntiating which command is under which statement .if indentation is not properly done in python it will generate error and the code will not run"
      ],
      "metadata": {
        "id": "nbBd96iFaVkJ"
      }
    },
    {
      "cell_type": "markdown",
      "source": [
        "Ques 5"
      ],
      "metadata": {
        "id": "TD2VtsHBa94a"
      }
    },
    {
      "cell_type": "markdown",
      "source": [
        "if the indentation is incorrect in python it will generate error"
      ],
      "metadata": {
        "id": "wwMYqUwia_X2"
      }
    },
    {
      "cell_type": "markdown",
      "source": [
        "Ques 6"
      ],
      "metadata": {
        "id": "XWgBH6HmbH0N"
      }
    },
    {
      "cell_type": "markdown",
      "source": [
        "statement is use for creating variables or print values\n",
        "expressinng is used to produce some result and values after calculated"
      ],
      "metadata": {
        "id": "EBiG43HlbKM9"
      }
    },
    {
      "cell_type": "code",
      "source": [
        "a = 10 #statement\n",
        "a"
      ],
      "metadata": {
        "colab": {
          "base_uri": "https://localhost:8080/"
        },
        "id": "ERUegWcrb7KO",
        "outputId": "340d7726-0a6d-4135-c641-aeb930f58b4a"
      },
      "execution_count": 8,
      "outputs": [
        {
          "output_type": "execute_result",
          "data": {
            "text/plain": [
              "10"
            ]
          },
          "metadata": {},
          "execution_count": 8
        }
      ]
    },
    {
      "cell_type": "code",
      "source": [],
      "metadata": {
        "id": "qdLKO5gscLgr"
      },
      "execution_count": null,
      "outputs": []
    },
    {
      "cell_type": "code",
      "source": [
        "b = (a*3)/2  #expression\n",
        "b"
      ],
      "metadata": {
        "colab": {
          "base_uri": "https://localhost:8080/"
        },
        "id": "7-p_IAMEcCQw",
        "outputId": "e51a060f-5eec-4bbd-faf7-7d45c3f9e286"
      },
      "execution_count": 9,
      "outputs": [
        {
          "output_type": "execute_result",
          "data": {
            "text/plain": [
              "15.0"
            ]
          },
          "metadata": {},
          "execution_count": 9
        }
      ]
    }
  ]
}