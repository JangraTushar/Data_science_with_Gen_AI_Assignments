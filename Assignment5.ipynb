{
  "nbformat": 4,
  "nbformat_minor": 0,
  "metadata": {
    "colab": {
      "provenance": []
    },
    "kernelspec": {
      "name": "python3",
      "display_name": "Python 3"
    },
    "language_info": {
      "name": "python"
    }
  },
  "cells": [
    {
      "cell_type": "markdown",
      "source": [
        "Ques 1"
      ],
      "metadata": {
        "id": "bzGfCK2LvuNc"
      }
    },
    {
      "cell_type": "code",
      "execution_count": 1,
      "metadata": {
        "colab": {
          "base_uri": "https://localhost:8080/"
        },
        "id": "zDI5TGu9vfhX",
        "outputId": "f9a38894-9c9a-4582-9eae-393d83bcf770"
      },
      "outputs": [
        {
          "output_type": "stream",
          "name": "stdout",
          "text": [
            "1\n",
            "2\n",
            "3\n",
            "4\n"
          ]
        }
      ],
      "source": [
        "for i in range (1,11):\n",
        "  if (i == 5):\n",
        "    break\n",
        "  else:\n",
        "    print(i)\n",
        ""
      ]
    },
    {
      "cell_type": "markdown",
      "source": [
        "Ques 2"
      ],
      "metadata": {
        "id": "9LWDyKOHwXqh"
      }
    },
    {
      "cell_type": "code",
      "source": [
        "l =[1,2,3,\"a\",\"f\",4,5,7,6,8]\n",
        "for i in l:\n",
        "  if (i==\"f\"):\n",
        "    break\n",
        "  else:\n",
        "    print(i)"
      ],
      "metadata": {
        "colab": {
          "base_uri": "https://localhost:8080/"
        },
        "id": "dISBCqWhwZFy",
        "outputId": "68ce37b8-42a6-426d-8156-2a3c307142f8"
      },
      "execution_count": 2,
      "outputs": [
        {
          "output_type": "stream",
          "name": "stdout",
          "text": [
            "1\n",
            "2\n",
            "3\n",
            "a\n"
          ]
        }
      ]
    },
    {
      "cell_type": "markdown",
      "source": [
        "Ques 3"
      ],
      "metadata": {
        "id": "H5pW_v64w7Oq"
      }
    },
    {
      "cell_type": "code",
      "source": [
        "for i in range(1,11):\n",
        "  if(i%2==0):\n",
        "    print(i)\n",
        "  else:\n",
        "    continue"
      ],
      "metadata": {
        "colab": {
          "base_uri": "https://localhost:8080/"
        },
        "id": "8421oP2Hw8sm",
        "outputId": "3ae7239c-c138-4e24-ca7c-d0b798f1ca7b"
      },
      "execution_count": 3,
      "outputs": [
        {
          "output_type": "stream",
          "name": "stdout",
          "text": [
            "2\n",
            "4\n",
            "6\n",
            "8\n",
            "10\n"
          ]
        }
      ]
    },
    {
      "cell_type": "markdown",
      "source": [
        "Ques 4"
      ],
      "metadata": {
        "id": "bgRlJjOAyr0k"
      }
    },
    {
      "cell_type": "code",
      "source": [
        "for i in range(10):\n",
        "  print(i)"
      ],
      "metadata": {
        "colab": {
          "base_uri": "https://localhost:8080/"
        },
        "id": "J8-I4HjQytjS",
        "outputId": "7cd087f5-63c2-48b6-be32-1752906a5d60"
      },
      "execution_count": 4,
      "outputs": [
        {
          "output_type": "stream",
          "name": "stdout",
          "text": [
            "0\n",
            "1\n",
            "2\n",
            "3\n",
            "4\n",
            "5\n",
            "6\n",
            "7\n",
            "8\n",
            "9\n"
          ]
        }
      ]
    },
    {
      "cell_type": "markdown",
      "source": [
        "Ques 5"
      ],
      "metadata": {
        "id": "j6uDZWq1DB8x"
      }
    },
    {
      "cell_type": "code",
      "source": [
        "i =1\n",
        "while i<=10:\n",
        "  for n in range (1,6):\n",
        "    print(n*i,end=\"\\t\")\n",
        "  i += 1\n",
        "  print()\n"
      ],
      "metadata": {
        "colab": {
          "base_uri": "https://localhost:8080/"
        },
        "id": "kpyexn6aDDPP",
        "outputId": "5dce7b4e-374f-4f43-ff5a-c92f87557fbe"
      },
      "execution_count": 7,
      "outputs": [
        {
          "output_type": "stream",
          "name": "stdout",
          "text": [
            "1\t2\t3\t4\t5\t\n",
            "2\t4\t6\t8\t10\t\n",
            "3\t6\t9\t12\t15\t\n",
            "4\t8\t12\t16\t20\t\n",
            "5\t10\t15\t20\t25\t\n",
            "6\t12\t18\t24\t30\t\n",
            "7\t14\t21\t28\t35\t\n",
            "8\t16\t24\t32\t40\t\n",
            "9\t18\t27\t36\t45\t\n",
            "10\t20\t30\t40\t50\t\n"
          ]
        }
      ]
    },
    {
      "cell_type": "markdown",
      "source": [
        "Ques 6"
      ],
      "metadata": {
        "id": "zQFyN3RO0Lki"
      }
    },
    {
      "cell_type": "code",
      "source": [
        "i = 1\n",
        "while i<20:\n",
        "  if (i%2==0):\n",
        "    print(i)\n",
        "    i += 1\n",
        "  else:\n",
        "    i += 1\n",
        "    #continue"
      ],
      "metadata": {
        "colab": {
          "base_uri": "https://localhost:8080/"
        },
        "id": "c33dmbwX0MvW",
        "outputId": "7893b089-c5c1-41d5-deaa-4aaeaafe5a47"
      },
      "execution_count": 6,
      "outputs": [
        {
          "output_type": "stream",
          "name": "stdout",
          "text": [
            "2\n",
            "4\n",
            "6\n",
            "8\n",
            "10\n",
            "12\n",
            "14\n",
            "16\n",
            "18\n"
          ]
        }
      ]
    }
  ]
}