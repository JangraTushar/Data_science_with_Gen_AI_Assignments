{
  "nbformat": 4,
  "nbformat_minor": 0,
  "metadata": {
    "colab": {
      "provenance": []
    },
    "kernelspec": {
      "name": "python3",
      "display_name": "Python 3"
    },
    "language_info": {
      "name": "python"
    }
  },
  "cells": [
    {
      "cell_type": "markdown",
      "source": [
        "Ques 1"
      ],
      "metadata": {
        "id": "WnkasC8UTW12"
      }
    },
    {
      "cell_type": "code",
      "execution_count": null,
      "metadata": {
        "id": "-EeUCnXhTN3x"
      },
      "outputs": [],
      "source": [
        "f = open(\"example.txt\",\"r\")"
      ]
    },
    {
      "cell_type": "markdown",
      "source": [
        "Ques 2"
      ],
      "metadata": {
        "id": "17wG2MI-Tb_s"
      }
    },
    {
      "cell_type": "code",
      "source": [
        "f = open(\"example.txt\",\"w\")\n",
        "f.write(\"Hello World\")\n",
        "f.close()"
      ],
      "metadata": {
        "id": "LD8BPBb5TdTa"
      },
      "execution_count": null,
      "outputs": []
    },
    {
      "cell_type": "markdown",
      "source": [
        "Ques 3"
      ],
      "metadata": {
        "id": "g6VfljbgUfM3"
      }
    },
    {
      "cell_type": "code",
      "source": [
        "f = open(\"example.txt\",\"a\")\n",
        "f.write(\"my name is tushar\")\n",
        "f.close()"
      ],
      "metadata": {
        "id": "AEwGFHcNT45s"
      },
      "execution_count": null,
      "outputs": []
    },
    {
      "cell_type": "markdown",
      "source": [
        "Ques 4"
      ],
      "metadata": {
        "id": "aF9pCMgCUekf"
      }
    },
    {
      "cell_type": "code",
      "source": [
        "file = open(\"binary_file.bin\",\"rb\")"
      ],
      "metadata": {
        "id": "Lb2O0B7LUifA"
      },
      "execution_count": null,
      "outputs": []
    },
    {
      "cell_type": "markdown",
      "source": [
        "Ques 5"
      ],
      "metadata": {
        "id": "4uOtQVXwbK9F"
      }
    },
    {
      "cell_type": "markdown",
      "source": [
        "with the help of with keyword we donn't need to close the current file explicitly"
      ],
      "metadata": {
        "id": "CEyjDbl9cLKf"
      }
    },
    {
      "cell_type": "markdown",
      "source": [
        "Ques 6"
      ],
      "metadata": {
        "id": "P1hAMQfkcZZ1"
      }
    },
    {
      "cell_type": "markdown",
      "source": [
        "A technique that regulates how data is read from and written to files is called file buffering. By default, Python reads and writes data from and to files using buffered I/O, which reads and writes data in blocks or chunks rather than individually for each byte."
      ],
      "metadata": {
        "id": "rDC6PEJZgCYP"
      }
    },
    {
      "cell_type": "markdown",
      "source": [
        "Ques 7"
      ],
      "metadata": {
        "id": "NwKvo_OlgEPl"
      }
    },
    {
      "cell_type": "code",
      "source": [
        "def read_file_with_custom_buffer(file_path, buffer_size):\n",
        "   with open(file_path, 'r', buffering=buffer_size) as file:\n",
        "      file_contents = file.read()\n",
        "   return file_contents\n",
        "\n",
        "file_path = 'large_file.txt'\n",
        "buffer_size = 4096\n",
        "file_contents = read_file_with_custom_buffer(file_path, buffer_size)\n",
        "print(file_contents)"
      ],
      "metadata": {
        "id": "d8LimMwdgm7G"
      },
      "execution_count": null,
      "outputs": []
    },
    {
      "cell_type": "markdown",
      "source": [
        "Ques 8"
      ],
      "metadata": {
        "id": "I4EKMc6ggwgN"
      }
    },
    {
      "cell_type": "code",
      "source": [
        "def read_file_with_custom_buffer(file_path, buffer_size):\n",
        "   with open(file_path, 'r', buffering=buffer_size) as file:\n",
        "      file_contents = file.read()\n",
        "   return file_contents\n",
        "\n",
        "file_path = 'file.txt'\n",
        "buffer_size = 4096\n",
        "file_contents = read_file_with_custom_buffer(file_path, buffer_size)\n",
        "print(file_contents)"
      ],
      "metadata": {
        "id": "CtkpxMMbg59U"
      },
      "execution_count": null,
      "outputs": []
    },
    {
      "cell_type": "markdown",
      "source": [
        "Ques 9"
      ],
      "metadata": {
        "id": "tPDr6bXpnAPh"
      }
    },
    {
      "cell_type": "markdown",
      "source": [
        "buffer help to read the part of file without reading the complete data of file so that we get the data  which we really want  instead of complete data"
      ],
      "metadata": {
        "id": "1sds-6XNnB6J"
      }
    },
    {
      "cell_type": "markdown",
      "source": [
        "Ques 10"
      ],
      "metadata": {
        "id": "9NUdoDviihpv"
      }
    },
    {
      "cell_type": "code",
      "source": [
        "f = open(\"example.txt\",\"a\")\n",
        "f.write(\"my name is tushar\")\n",
        "f.close()"
      ],
      "metadata": {
        "id": "TpCah9i8inh8"
      },
      "execution_count": null,
      "outputs": []
    },
    {
      "cell_type": "markdown",
      "source": [
        "Ques 11"
      ],
      "metadata": {
        "id": "15kTcZTcioXo"
      }
    },
    {
      "cell_type": "code",
      "source": [
        "f = open(\"example.txt\",\"w\")\n",
        "f.write(\"Hello World\")\n",
        "f.close()"
      ],
      "metadata": {
        "id": "mhyR6bi8iqLp"
      },
      "execution_count": null,
      "outputs": []
    },
    {
      "cell_type": "markdown",
      "source": [
        "Ques 12"
      ],
      "metadata": {
        "id": "ETAi-n9Tj7hT"
      }
    },
    {
      "cell_type": "markdown",
      "source": [
        "The detach() function in Python is a method used to disconnect a file from its associated file descriptor. This method is commonly used to disassociate a file from a stream object, which can be useful when working with files in Python."
      ],
      "metadata": {
        "id": "3lbREZ2jSkIu"
      }
    },
    {
      "cell_type": "markdown",
      "source": [
        "Ques 13"
      ],
      "metadata": {
        "id": "nUA3S_wXSq9j"
      }
    },
    {
      "cell_type": "code",
      "source": [
        "file = open(\"example.txt\",\"r+\")\n",
        "file.write(\"hello welcome to the python series.\\nthis is the data science with gwn ai course.\\nname is tushar.\\nthis concept is under file handling\")\n",
        "file.close()"
      ],
      "metadata": {
        "id": "_frPwQzESsxD"
      },
      "execution_count": null,
      "outputs": []
    },
    {
      "cell_type": "code",
      "source": [
        "f = open(\"example.txt\",\"r\")\n",
        "f.tell()"
      ],
      "metadata": {
        "colab": {
          "base_uri": "https://localhost:8080/"
        },
        "id": "dCI474NbTyYm",
        "outputId": "5b550d31-8110-4036-eaf6-5624c8de444c"
      },
      "execution_count": null,
      "outputs": [
        {
          "output_type": "execute_result",
          "data": {
            "text/plain": [
              "0"
            ]
          },
          "metadata": {},
          "execution_count": 5
        }
      ]
    },
    {
      "cell_type": "code",
      "source": [
        "f.seek(10)"
      ],
      "metadata": {
        "colab": {
          "base_uri": "https://localhost:8080/"
        },
        "id": "6-lljM3bUZgP",
        "outputId": "14758499-5a51-470d-c132-1635407c261a"
      },
      "execution_count": null,
      "outputs": [
        {
          "output_type": "execute_result",
          "data": {
            "text/plain": [
              "10"
            ]
          },
          "metadata": {},
          "execution_count": 15
        }
      ]
    },
    {
      "cell_type": "code",
      "source": [
        "print(f.readlines())"
      ],
      "metadata": {
        "colab": {
          "base_uri": "https://localhost:8080/"
        },
        "id": "SNHNRuVwVPS9",
        "outputId": "fbe0fafb-13f2-4387-b928-a8c9713d3bc1"
      },
      "execution_count": null,
      "outputs": [
        {
          "output_type": "stream",
          "name": "stdout",
          "text": [
            "['ome to the python series.\\n', 'this is the data science with gwn ai course.\\n', 'name is tushar.\\n', 'this concept is under file handling']\n"
          ]
        }
      ]
    },
    {
      "cell_type": "markdown",
      "source": [
        "Ques 14"
      ],
      "metadata": {
        "id": "xCLOjkM2X9tX"
      }
    },
    {
      "cell_type": "markdown",
      "source": [
        "The Python File fileno() method returns the file descriptor (or file handle) of an open file. A file descriptor is an unsigned integer that is used by the operating system to identify the open files in an os kernel. It only holds non-negative values."
      ],
      "metadata": {
        "id": "7A-umPhUYAp0"
      }
    },
    {
      "cell_type": "code",
      "source": [
        "def get_file_descriptor(file_path):\n",
        "    try:\n",
        "        with open(file_path, 'r') as file:\n",
        "            return file.fileno()\n",
        "    except FileNotFoundError:\n",
        "        return None\n",
        "\n",
        "# Example usage\n",
        "file_path = 'example.txt'\n",
        "descriptor = get_file_descriptor(file_path)\n",
        "if descriptor is not None:\n",
        "    print(f\"File descriptor for '{file_path}': {descriptor}\")\n",
        "else:\n",
        "    print(f\"File '{file_path}' not found.\")\n"
      ],
      "metadata": {
        "colab": {
          "base_uri": "https://localhost:8080/"
        },
        "id": "8adHP0vGW_0o",
        "outputId": "2d42759e-0d11-475e-95d2-654e61c9704d"
      },
      "execution_count": null,
      "outputs": [
        {
          "output_type": "stream",
          "name": "stdout",
          "text": [
            "File descriptor for 'example.txt': 41\n"
          ]
        }
      ]
    },
    {
      "cell_type": "markdown",
      "source": [
        "Ques 15"
      ],
      "metadata": {
        "id": "LvXkxfFeYQTL"
      }
    },
    {
      "cell_type": "code",
      "source": [
        "file = open(\"example.txt\",\"r+\")\n",
        "file.write(\"hello welcome to the python series.\\nthis is the data science with gwn ai course.\\nname is tushar.\\nthis concept is under file handling\")\n",
        "file.tell()"
      ],
      "metadata": {
        "colab": {
          "base_uri": "https://localhost:8080/"
        },
        "id": "fbInYdqGYRzh",
        "outputId": "c6b8ccae-aa95-4640-a2eb-ccef54cbcb4d"
      },
      "execution_count": null,
      "outputs": [
        {
          "output_type": "execute_result",
          "data": {
            "text/plain": [
              "132"
            ]
          },
          "metadata": {},
          "execution_count": 19
        }
      ]
    },
    {
      "cell_type": "markdown",
      "source": [
        "Ques 16"
      ],
      "metadata": {
        "id": "8t8a0yHkNPkb"
      }
    },
    {
      "cell_type": "code",
      "source": [
        "import logging\n",
        "\n",
        "logging.basicConfig(filename='test.log', level=logging.DEBUG, format='%(asctime)s - %(levelname)s - %(message)s')\n",
        "\n",
        "logging.info(\"This is an informational message.\")\n",
        "logging.warning(\"This is a warning message.\")\n",
        "logging.error(\"This is an error message.\")\n",
        "\n",
        "logging.shutdown()\n"
      ],
      "metadata": {
        "colab": {
          "base_uri": "https://localhost:8080/"
        },
        "id": "3tWc1urWNRS8",
        "outputId": "509ca023-195e-411c-a141-fcafdddaac70"
      },
      "execution_count": null,
      "outputs": [
        {
          "output_type": "stream",
          "name": "stderr",
          "text": [
            "WARNING:root:This is a warning message.\n",
            "ERROR:root:This is an error message.\n"
          ]
        }
      ]
    },
    {
      "cell_type": "markdown",
      "source": [
        "Ques 17"
      ],
      "metadata": {
        "id": "9NuYkMNlRG8Z"
      }
    },
    {
      "cell_type": "markdown",
      "source": [
        "Certainly! The importance of logging levels in the Python logging module lies in their ability to control the  significance of logged messages. Each logging level serves a specific purpose and helps filter and prioritize log entries based on their severity\n",
        "\n",
        "DEBUG: Lowest level. Used for detailed debugging information. Typically disabled in production.\n",
        "INFO: General information about the application’s operation. Useful for tracking the flow of execution.\n",
        "WARNING: Indicates a potential issue or something unexpected. Not critical but worth noting.\n",
        "ERROR: Indicates a more serious problem that prevents normal operation. Logged when an exception occurs.\n",
        "CRITICAL: Highest level. Indicates a critical error that might cause the application to crash or fail.\n",
        "By setting appropriate logging levels, you can tailor the amount of detail in your logs and focus on relevant information during development, troubleshooting, and production monitoring"
      ],
      "metadata": {
        "id": "qpLfaAu_S0PB"
      }
    },
    {
      "cell_type": "markdown",
      "source": [
        "Ques 18"
      ],
      "metadata": {
        "id": "cXGVPXTOS2Wg"
      }
    },
    {
      "cell_type": "code",
      "source": [
        "import pdb\n",
        "\n",
        "def my_loop(n):\n",
        "    for i in range(n):\n",
        "        # Set a breakpoint here\n",
        "        pdb.set_trace()\n",
        "        print(f\"Current value of 'i': {i}\")\n",
        "\n",
        "my_loop(5)\n"
      ],
      "metadata": {
        "id": "g5HPz3Kfohc-"
      },
      "execution_count": null,
      "outputs": []
    },
    {
      "cell_type": "markdown",
      "source": [
        "Ques 19"
      ],
      "metadata": {
        "id": "qmtVbOjMoJBj"
      }
    },
    {
      "cell_type": "code",
      "source": [
        "import pdb\n",
        "\n",
        "def divide_numbers(a, b):\n",
        "    # Set a breakpoint here\n",
        "    pdb.set_trace()\n",
        "    result = a / b\n",
        "    return result\n",
        "\n",
        "# Call the function with some values\n",
        "print(divide_numbers(5, 0))\n"
      ],
      "metadata": {
        "id": "hRyihUxEooV6"
      },
      "execution_count": null,
      "outputs": []
    },
    {
      "cell_type": "markdown",
      "source": [
        "Ques 20"
      ],
      "metadata": {
        "id": "TvXdUXFPoplq"
      }
    },
    {
      "cell_type": "code",
      "source": [
        "import pdb\n",
        "\n",
        "def factorial(n):\n",
        "    if n == 0:\n",
        "        return 1\n",
        "    else:\n",
        "        return n * factorial(n - 1)\n",
        "\n",
        "# Set a breakpoint inside the function\n",
        "pdb.set_trace()\n",
        "\n",
        "result = factorial(5)\n",
        "print(f\"Factorial of 5 is: {result}\")\n"
      ],
      "metadata": {
        "id": "IrGrwuBEo8Kb"
      },
      "execution_count": null,
      "outputs": []
    },
    {
      "cell_type": "markdown",
      "source": [
        "Ques 21"
      ],
      "metadata": {
        "id": "VII1DXmB0r-i"
      }
    },
    {
      "cell_type": "code",
      "source": [
        "try:\n",
        "  10/0\n",
        "  print(\"hello\")\n",
        "except Exception as e:\n",
        "  print(e)"
      ],
      "metadata": {
        "colab": {
          "base_uri": "https://localhost:8080/"
        },
        "id": "ZeDLCjgX0t2B",
        "outputId": "e622f2d6-2d62-42c4-f07a-5c57982e121b"
      },
      "execution_count": 1,
      "outputs": [
        {
          "output_type": "stream",
          "name": "stdout",
          "text": [
            "division by zero\n"
          ]
        }
      ]
    },
    {
      "cell_type": "markdown",
      "source": [
        "Ques 22"
      ],
      "metadata": {
        "id": "NvMzYg4q22zY"
      }
    },
    {
      "cell_type": "code",
      "source": [
        "def divide(a,b):\n",
        "  try:\n",
        "    result = a/b\n",
        "  except ZeroDivisionError as e:\n",
        "    print(e)\n",
        "  else:\n",
        "    print(result)"
      ],
      "metadata": {
        "id": "F_ypX1Ve1jR4"
      },
      "execution_count": null,
      "outputs": []
    },
    {
      "cell_type": "code",
      "source": [
        "divide(10,0)\n",
        "divide(10,2)"
      ],
      "metadata": {
        "colab": {
          "base_uri": "https://localhost:8080/"
        },
        "id": "rxoKUfXE2lwf",
        "outputId": "534f7d50-9352-4e8a-b8e0-bb7058c53f0c"
      },
      "execution_count": null,
      "outputs": [
        {
          "output_type": "stream",
          "name": "stdout",
          "text": [
            "division by zero\n",
            "5.0\n"
          ]
        }
      ]
    },
    {
      "cell_type": "markdown",
      "source": [
        "Ques23"
      ],
      "metadata": {
        "id": "9i7f8cub24iY"
      }
    },
    {
      "cell_type": "code",
      "source": [
        "def open_file(file_path):\n",
        "  try:\n",
        "    with open(file_path,\"r\")as f:\n",
        "      return f.read()\n",
        "  except FileNotFoundError as e:\n",
        "    print(e)\n",
        "  else:\n",
        "    print(\"file opened successfully\")\n"
      ],
      "metadata": {
        "id": "gEkMk50a3ARz"
      },
      "execution_count": null,
      "outputs": []
    },
    {
      "cell_type": "markdown",
      "source": [
        "Ques 24"
      ],
      "metadata": {
        "id": "Y0FED1Vu3lDM"
      }
    },
    {
      "cell_type": "code",
      "source": [
        "try:\n",
        "  10/0\n",
        "  print(\"hello\")\n",
        "except Exception as e:\n",
        "  print(e)\n",
        "finally:\n",
        "  print(\"finally block\")"
      ],
      "metadata": {
        "colab": {
          "base_uri": "https://localhost:8080/"
        },
        "id": "2M72VUXK3tGW",
        "outputId": "98b3bd5b-12b7-408a-a8a1-ed14d92aebd8"
      },
      "execution_count": null,
      "outputs": [
        {
          "output_type": "stream",
          "name": "stdout",
          "text": [
            "division by zero\n",
            "finally block\n"
          ]
        }
      ]
    },
    {
      "cell_type": "markdown",
      "source": [
        "the finally bolck will always execute without depending on the above code"
      ],
      "metadata": {
        "id": "09jFYys43xTf"
      }
    },
    {
      "cell_type": "markdown",
      "source": [
        "Ques 25"
      ],
      "metadata": {
        "id": "KVzM0PtwDb3V"
      }
    },
    {
      "cell_type": "code",
      "source": [
        "a=10\n",
        "try:\n",
        "  b = int('error')\n",
        "except Exception as e:\n",
        "  print(e)\n",
        "else:\n",
        "  print(a/b)"
      ],
      "metadata": {
        "colab": {
          "base_uri": "https://localhost:8080/"
        },
        "id": "bp_WlKITEnFt",
        "outputId": "6a308d14-f6de-446f-eae5-30bc854db653"
      },
      "execution_count": null,
      "outputs": [
        {
          "output_type": "stream",
          "name": "stdout",
          "text": [
            "invalid literal for int() with base 10: 'error'\n"
          ]
        }
      ]
    },
    {
      "cell_type": "markdown",
      "source": [
        "Ques26"
      ],
      "metadata": {
        "id": "YNki2onqG3mz"
      }
    },
    {
      "cell_type": "code",
      "source": [
        "try:\n",
        "  10/0\n",
        "except ZeroDivisionError as e:\n",
        "  print(e)\n",
        "except ValueError as e:\n",
        "  print(e)"
      ],
      "metadata": {
        "colab": {
          "base_uri": "https://localhost:8080/"
        },
        "id": "_Qo_lSp-GkNl",
        "outputId": "81507286-8677-482d-edbc-953d2b9158cc"
      },
      "execution_count": null,
      "outputs": [
        {
          "output_type": "stream",
          "name": "stdout",
          "text": [
            "division by zero\n"
          ]
        }
      ]
    },
    {
      "cell_type": "markdown",
      "source": [
        "Ques27"
      ],
      "metadata": {
        "id": "bSQbud1qG46V"
      }
    },
    {
      "cell_type": "markdown",
      "source": [
        "In Python, custom exceptions are user-defined exception classes that you create by subclassing the built-in Exception class or any of its existing subclasses. These custom exceptions allow you to handle specific error scenarios in your code. When a custom exception is raised, it behaves like any other exception in Python"
      ],
      "metadata": {
        "id": "099LzOBXR1oi"
      }
    },
    {
      "cell_type": "markdown",
      "source": [
        "Ques 28"
      ],
      "metadata": {
        "id": "l0r33FeLR4i8"
      }
    },
    {
      "cell_type": "code",
      "source": [
        "class ValidationError(Exception):\n",
        "    def __init__(self, message, errors):\n",
        "        super().__init__(message)\n",
        "        self.errors = errors\n"
      ],
      "metadata": {
        "id": "n5okiqMtR6RD"
      },
      "execution_count": null,
      "outputs": []
    },
    {
      "cell_type": "markdown",
      "source": [
        "Ques 29"
      ],
      "metadata": {
        "id": "O1yhkNLH8ZFj"
      }
    },
    {
      "cell_type": "code",
      "source": [
        "class ATMWithdrawlException(Exception):\n",
        "  def __init__(self,balance,amount):\n",
        "    self.balance = balance\n",
        "    self.amount = amount\n",
        "    super().__init__(f\"insufficient fund cannot withdraw {amount} from {balance}\")\n",
        "def Withdraw_money(balance,amount):\n",
        "  try:\n",
        "    if amount>balance:\n",
        "      raise ATMWithdrawlException(balance,amount)\n",
        "    else:\n",
        "      print(f\"your remaining balance is {balance-amount}\")\n",
        "  except ATMWithdrawlException as e:\n",
        "    print(e)\n",
        "\n",
        "balance = 500\n",
        "amount = 1000\n",
        "Withdraw_money(balance,amount)"
      ],
      "metadata": {
        "colab": {
          "base_uri": "https://localhost:8080/"
        },
        "id": "_3B5755b8eId",
        "outputId": "0c6f6137-ed73-4c70-ab17-047f1324acaa"
      },
      "execution_count": null,
      "outputs": [
        {
          "output_type": "stream",
          "name": "stdout",
          "text": [
            "insufficient fund cannot withdraw 1000 from 500\n"
          ]
        }
      ]
    },
    {
      "cell_type": "markdown",
      "source": [
        "Ques30"
      ],
      "metadata": {
        "id": "lybNCAHF-KNr"
      }
    },
    {
      "cell_type": "code",
      "source": [
        "class AgeErrorException(Exception):\n",
        "  def __init__(self,age):\n",
        "    self.age = age\n",
        "    super().__init__(f\"age must be positive {age} is not acceptable\")\n",
        "def age_check(age):\n",
        "  try:\n",
        "    if age<0:\n",
        "      raise AgeErrorException(age)\n",
        "    else :\n",
        "      print(f\"your age is {age}\")\n",
        "  except AgeErrorException as e:\n",
        "    print(e)\n",
        "age = -10\n",
        "age_check(age)"
      ],
      "metadata": {
        "colab": {
          "base_uri": "https://localhost:8080/"
        },
        "id": "BhLWWzwd-h4W",
        "outputId": "7d9eb476-9a3c-43b5-c7d5-4a6c7d35473e"
      },
      "execution_count": null,
      "outputs": [
        {
          "output_type": "stream",
          "name": "stdout",
          "text": [
            "age must be positive -10 is not acceptable\n"
          ]
        }
      ]
    },
    {
      "cell_type": "markdown",
      "source": [
        "Ques 31"
      ],
      "metadata": {
        "id": "45IpNEwU_UwA"
      }
    },
    {
      "cell_type": "markdown",
      "source": [
        "\n",
        "\n",
        "\n",
        "\n",
        "\n",
        "\n",
        "\n",
        "1.   The try block contains code that might raise an exception e.g., division by zero, file not found, etc.\n",
        "2.   The except block specifies how to handle specific exceptions e.g., catching ZeroDivisionError or ValueError\n",
        "\n",
        "3.   The else block executes only if no exceptions were raised in the try block.It provides a way to run additional code when the try block completes successfully\n",
        "4.   The finally block always executes, regardless of whether an exception occurred or not\n",
        "\n",
        "\n",
        "\n",
        "\n",
        "\n"
      ],
      "metadata": {
        "id": "fObJrdZ_Lu9s"
      }
    },
    {
      "cell_type": "markdown",
      "source": [
        "Ques 32"
      ],
      "metadata": {
        "id": "IyZKzDClMwvj"
      }
    },
    {
      "cell_type": "markdown",
      "source": [
        "Custom exceptions have meaningful names that reflect the specific error conditions in your application.\n",
        "When an exception is raised, the name of the custom exception provides context, making it easier to understand the issue.\n",
        "For example, if you create a FileNotFoundError subclass for missing files, it’s clear what went wrong.By defining custom exceptions, you encapsulate error handling logic within the relevant parts of your code.\n",
        "Each module or class can raise its own specific exceptions, keeping error-related code localized.Custom exceptions allow you to handle specific error scenarios uniformly.\n",
        "Instead of catching generic exceptions (e.g., Exception), you can catch custom exceptions explicitly.\n",
        "This consistency simplifies error handling and ensures predictable behavior.Custom exceptions help prevent unexpected failures by explicitly identifying potential issues.\n",
        "By raising custom exceptions, you enforce error checks and prevent invalid states."
      ],
      "metadata": {
        "id": "3AkyClBYlrSs"
      }
    },
    {
      "cell_type": "markdown",
      "source": [
        "Ques 33"
      ],
      "metadata": {
        "id": "T5V8yGRbqJPc"
      }
    },
    {
      "cell_type": "markdown",
      "source": [
        "Multithreading in Python allows several tasks to be executed simultaneously within a single application, enhancing responsiveness and performance. By enabling autonomous execution of various program components, it promotes efficient task management and boosts CPU utilization.A thread is an independent sequence of instructions within a program that can be executed concurrently.\n",
        "A process is an instance of a program being executed, containing one or more threads.\n",
        "Threads within a process share global variables and program code but have their own local variables (stored in the stack).The Global Interpreter Lock (GIL) restricts true parallel execution of multiple threads in Python, making CPU-bound programs effectively single-threaded."
      ],
      "metadata": {
        "id": "OgR12ThTqOMb"
      }
    },
    {
      "cell_type": "markdown",
      "source": [
        "Ques 34"
      ],
      "metadata": {
        "id": "GPVxtQFkr6Q-"
      }
    },
    {
      "cell_type": "code",
      "source": [
        "import threading\n",
        "\n",
        "def print_numbers():\n",
        "    for i in range(5):\n",
        "        print(f\"Number: {i}\")\n",
        "\n",
        "def print_letters():\n",
        "    for letter in 'abcde':\n",
        "        print(f\"Letter: {letter}\")\n",
        "\n",
        "t1 = threading.Thread(target=print_numbers)\n",
        "t2 = threading.Thread(target=print_letters)\n",
        "\n",
        "t1.start()\n",
        "t2.start()\n",
        "\n",
        "t1.join()\n",
        "t2.join()\n"
      ],
      "metadata": {
        "colab": {
          "base_uri": "https://localhost:8080/"
        },
        "id": "LqdgkvyosTRl",
        "outputId": "2d2c20ee-9dd4-4863-c32a-26af52ee4cbd"
      },
      "execution_count": null,
      "outputs": [
        {
          "output_type": "stream",
          "name": "stdout",
          "text": [
            "Number: 0\n",
            "Number: 1\n",
            "Number: 2\n",
            "Number: 3\n",
            "Number: 4\n",
            "Letter: a\n",
            "Letter: b\n",
            "Letter: c\n",
            "Letter: d\n",
            "Letter: e\n"
          ]
        }
      ]
    },
    {
      "cell_type": "markdown",
      "source": [
        "Ques 35"
      ],
      "metadata": {
        "id": "YqFbJ0-As00n"
      }
    },
    {
      "cell_type": "markdown",
      "source": [
        "The Global Interpreter Lock (GIL) in Python is a lock that allows only one thread to hold control of the Python interpreter at any given time. In other words, only one thread can be in a state of execution at a particular moment. While the GIL isn’t visible to developers executing single-threaded programs, it can become a performance bottleneck in CPU-bound and multi-threaded code."
      ],
      "metadata": {
        "id": "PIxMbIqdtHPv"
      }
    },
    {
      "cell_type": "markdown",
      "source": [
        "Ques 36"
      ],
      "metadata": {
        "id": "AVj3bIO5tPy-"
      }
    },
    {
      "cell_type": "code",
      "source": [
        "import threading\n",
        "def print_list(lst):\n",
        "  for i in lst:\n",
        "    print(i)\n",
        "def print_string(str):\n",
        "  for i in str:\n",
        "    print(i)\n",
        "list = [1,2,3,4,5]\n",
        "string = \"hello\"\n",
        "t1 = threading.Thread(target=print_list,args=(list,))\n",
        "t2 = threading.Thread(target=print_string,args=(string,))\n",
        "t1.start()\n",
        "t2.start()\n",
        "t1.join()\n",
        "t2.join()"
      ],
      "metadata": {
        "colab": {
          "base_uri": "https://localhost:8080/"
        },
        "id": "hQSYhz-SuVgK",
        "outputId": "e64910bd-0058-47a1-8562-a018d019692a"
      },
      "execution_count": null,
      "outputs": [
        {
          "output_type": "stream",
          "name": "stdout",
          "text": [
            "1\n",
            "2\n",
            "3\n",
            "4\n",
            "5\n",
            "h\n",
            "e\n",
            "l\n",
            "l\n",
            "o\n"
          ]
        }
      ]
    },
    {
      "cell_type": "markdown",
      "source": [
        "Ques 37"
      ],
      "metadata": {
        "id": "qgYXC78Q47W9"
      }
    },
    {
      "cell_type": "markdown",
      "source": [
        "The join() method in Python’s threading module serves an essential purpose when working with threads. Let me explain its significance:\n",
        "\n",
        "Blocking Behavior:\n",
        "The join() method is called on a thread object (let’s call it t).\n",
        "When the main thread (or any other thread) invokes t.join(), it waits until the thread t completes its execution.\n",
        "Essentially, it blocks the calling thread until the target thread (t) finishes.\n",
        "Use Cases:\n",
        "Synchronization: You can use join() to ensure that certain threads complete before others proceed. For example"
      ],
      "metadata": {
        "id": "Z09NMedL4-oN"
      }
    },
    {
      "cell_type": "markdown",
      "source": [
        "Ques 38"
      ],
      "metadata": {
        "id": "wdbqnmE16HiB"
      }
    },
    {
      "cell_type": "markdown",
      "source": [
        "\n",
        "\n",
        "1.   When your program spends a significant amount of time waiting for I/O operations (e.g., reading/writing files, making network requests, database queries), multithreading can be highly beneficial.\n",
        "2.   Multithreading ensures that the GUI remains responsive even when performing background tasks (e.g., loading data, updating UI elements).\n",
        "Example: A music player with a responsive UI while fetching album artwork in the background.\n",
        "\n",
        "3.  Threads can work on different parts of the data concurrently, improving overall throughput.\n",
        "Example: A data pipeline processing sensor data from multiple sources\n",
        "4.   This economizes resource usage compared to spawning\n",
        "separate processes.\n",
        "Example: A web server handling multiple client connections using shared resources.\n",
        "\n",
        "\n",
        "5.   Divide a large task into smaller subtasks and execute them concurrently using threads.\n",
        "Multithreading improves overall execution time by parallelizing the workload.\n",
        "Example: Image processing (applying filters, resizing) on multiple images simultaneously\n",
        "\n",
        "\n",
        "\n",
        "\n",
        "\n"
      ],
      "metadata": {
        "id": "Gck05ohD7i0i"
      }
    },
    {
      "cell_type": "markdown",
      "source": [
        "Ques 39"
      ],
      "metadata": {
        "id": "b4JMrJ7B8tFl"
      }
    },
    {
      "cell_type": "markdown",
      "source": [
        "Multiprocessing in Python is a powerful technique for achieving parallelism by creating multiple processes that run independently. Unlike multithreading (which uses threads), multiprocessing leverages separate processes, each with its own memory space and Python interpreter.Each process runs independently, avoiding the Global Interpreter Lock (GIL) limitation.Processes run in separate memory spaces, allowing true parallel execution.Each process has its own memory, avoiding shared memory issues.Utilize all available CPU cores efficiently.\n"
      ],
      "metadata": {
        "id": "H4DfodNS9H2j"
      }
    },
    {
      "cell_type": "markdown",
      "source": [
        "Ques 40"
      ],
      "metadata": {
        "id": "Dw1n55Kl9udQ"
      }
    },
    {
      "cell_type": "markdown",
      "source": [
        "There are major difference in multiprocessing and multithreading\n",
        "\n",
        "\n",
        "1.   There in true parallel execution in multiprocessing but in multithreading there is illusion that threads are executed parallely\n",
        "2.   multithreading dont allow to share memory resources but in multithreading memory resources are shareable\n",
        "\n",
        "\n",
        "3.   in multiprocessing different processes are running parallely utilize all CPU cores efficiently but in threading a single process is divided into multiple independent thread and they are executed using threading\n",
        "4.   multiprocessing is not affected by GLI but multithreading  is affected by multiprocessing\n",
        "\n",
        "\n",
        "\n"
      ],
      "metadata": {
        "id": "ty3baAql9655"
      }
    },
    {
      "cell_type": "markdown",
      "source": [
        "Ques 41"
      ],
      "metadata": {
        "id": "LubxNc90AF3h"
      }
    },
    {
      "cell_type": "code",
      "source": [
        "import multiprocessing\n",
        "\n",
        "import time\n",
        "start = time.perf_counter()\n",
        "\n",
        "def test_func():\n",
        "    print(\"do something\")\n",
        "    print(\"sleep for 1 sec\")\n",
        "    time.sleep(1)\n",
        "    print(\"done with sleeping\")\n",
        "\n",
        "p1 = multiprocessing.Process(target = test_func)\n",
        "p2 = multiprocessing.Process(target = test_func)\n",
        "\n",
        "\n",
        "p1.start()\n",
        "p2.start()\n",
        "\n",
        "p1.join()\n",
        "p2.join()\n",
        "\n",
        "end = time.perf_counter()"
      ],
      "metadata": {
        "colab": {
          "base_uri": "https://localhost:8080/"
        },
        "id": "SzgJExBUIopk",
        "outputId": "76c1bb3d-f4da-4105-8c71-b3ac513e9a06"
      },
      "execution_count": null,
      "outputs": [
        {
          "output_type": "stream",
          "name": "stdout",
          "text": [
            "do something\n",
            "sleep for 1 sec\n",
            "do something\n",
            "sleep for 1 sec\n",
            "done with sleeping\n",
            "done with sleeping\n"
          ]
        }
      ]
    },
    {
      "cell_type": "markdown",
      "source": [
        "Ques42"
      ],
      "metadata": {
        "id": "mkJYxF1nI_S7"
      }
    },
    {
      "cell_type": "code",
      "source": [
        "start = time.perf_counter()\n",
        "def square(no):\n",
        "    result = no*no\n",
        "    print(f\"The square of {no} is {result}\")\n",
        "\n",
        "numbers = [2, 3, 4, 5, 6000]\n",
        "\n",
        "\n",
        "with multiprocessing.Pool() as pool:\n",
        "    pool.map(square, numbers)\n",
        "\n",
        "\n",
        "end = time.perf_counter()"
      ],
      "metadata": {
        "colab": {
          "base_uri": "https://localhost:8080/"
        },
        "id": "ppwIV3qjI4Ka",
        "outputId": "2ed020bd-6484-4855-851f-b2039673144d"
      },
      "execution_count": null,
      "outputs": [
        {
          "output_type": "stream",
          "name": "stdout",
          "text": [
            "The square of 3 is 9The square of 2 is 4\n",
            "\n",
            "The square of 4 is 16The square of 5 is 25\n",
            "\n",
            "The square of 6000 is 36000000\n"
          ]
        }
      ]
    },
    {
      "cell_type": "markdown",
      "source": [
        "Ques43"
      ],
      "metadata": {
        "id": "UN7PEbIkJAy4"
      }
    },
    {
      "cell_type": "markdown",
      "source": [
        "Inter-process communication (IPC) in Python refers to the mechanisms and techniques used for communication between separate processes running concurrently. When using the multiprocessing module, IPC allows data sharing and coordination between these independent processes.Python provides shared memory objects like multiprocessing.Array and multiprocessing.Value.Python offers several IPC mechanisms for message passing:\n",
        "Queues: Thread-safe data structures for sending and receiving messages.\n",
        "Pipes: Bidirectional communication channels between processes.\n",
        "Managers: High-level interfaces for sharing Python objects (e.g., dictionaries, lists) across processes.IPC helps synchronize processes to avoid race conditions.\n",
        "Locks, semaphores, and condition variables ensure orderly access to shared resources.\n",
        "Example: Using a lock to protect critical sections of code."
      ],
      "metadata": {
        "id": "LDuEGZbdJmfB"
      }
    },
    {
      "cell_type": "markdown",
      "source": [],
      "metadata": {
        "id": "PjqdrI6qJ3Gs"
      }
    }
  ]
}