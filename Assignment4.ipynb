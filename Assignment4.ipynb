{
  "nbformat": 4,
  "nbformat_minor": 0,
  "metadata": {
    "colab": {
      "provenance": []
    },
    "kernelspec": {
      "name": "python3",
      "display_name": "Python 3"
    },
    "language_info": {
      "name": "python"
    }
  },
  "cells": [
    {
      "cell_type": "markdown",
      "source": [
        "Ques 1"
      ],
      "metadata": {
        "id": "7p_wlj8EaPgH"
      }
    },
    {
      "cell_type": "code",
      "source": [
        "i = 1\n",
        "while i<6:\n",
        "  print(i)\n",
        "  i += 1"
      ],
      "metadata": {
        "colab": {
          "base_uri": "https://localhost:8080/"
        },
        "id": "PgMuUZLeaSSz",
        "outputId": "6d6f356b-927d-4cf8-807e-f02ef677394f"
      },
      "execution_count": 2,
      "outputs": [
        {
          "output_type": "stream",
          "name": "stdout",
          "text": [
            "1\n",
            "2\n",
            "3\n",
            "4\n",
            "5\n"
          ]
        }
      ]
    },
    {
      "cell_type": "markdown",
      "source": [
        "Ques 2"
      ],
      "metadata": {
        "id": "X0NvW_-Hamz9"
      }
    },
    {
      "cell_type": "code",
      "execution_count": 6,
      "metadata": {
        "colab": {
          "base_uri": "https://localhost:8080/"
        },
        "id": "FK7MEcajaJuI",
        "outputId": "af2774b0-7727-4497-b9dc-1c89da49148c"
      },
      "outputs": [
        {
          "output_type": "stream",
          "name": "stdout",
          "text": [
            "55\n"
          ]
        }
      ],
      "source": [
        "i = 1\n",
        "sum = 0\n",
        "while i<=10:\n",
        "  sum = sum + i\n",
        "  i += 1\n",
        "print(sum)\n",
        "\n"
      ]
    },
    {
      "cell_type": "markdown",
      "source": [
        "Ques 3"
      ],
      "metadata": {
        "id": "X9zSoCONuFgm"
      }
    },
    {
      "cell_type": "code",
      "source": [
        "n = int(input(\"Enter the number : \"))\n",
        "res = 1\n",
        "for i in range(1,n+1):\n",
        "  res = res*i\n",
        "  i += 1\n",
        "print(res)"
      ],
      "metadata": {
        "colab": {
          "base_uri": "https://localhost:8080/"
        },
        "id": "AMYPFtC-uLNs",
        "outputId": "dc3fb6f4-e319-481d-81c5-b0826c0e198d"
      },
      "execution_count": 7,
      "outputs": [
        {
          "output_type": "stream",
          "name": "stdout",
          "text": [
            "Enter the number : 5\n",
            "120\n"
          ]
        }
      ]
    },
    {
      "cell_type": "markdown",
      "source": [
        "Ques 4"
      ],
      "metadata": {
        "id": "zJJ--9eou-sK"
      }
    },
    {
      "cell_type": "code",
      "source": [
        "s = str(input(\"Enter the string: \"))\n",
        "count = 0\n",
        "l = len(s)\n",
        "for i in range(l):\n",
        "  if (s[i] == \"a\" or s[i] == \"e\" or s[i] == \"i\" or s[i] == \"o\" or s[i] == \"u\"):\n",
        "    count += 1\n",
        "  else:\n",
        "    continue\n",
        "print (count)\n",
        "\n"
      ],
      "metadata": {
        "colab": {
          "base_uri": "https://localhost:8080/"
        },
        "id": "nY4fgY9pvAag",
        "outputId": "309a6946-5f67-4ebd-a9a6-29357ca8d5a7"
      },
      "execution_count": 9,
      "outputs": [
        {
          "output_type": "stream",
          "name": "stdout",
          "text": [
            "Enter the string: tushar\n",
            "2\n"
          ]
        }
      ]
    },
    {
      "cell_type": "markdown",
      "source": [
        "Ques 5"
      ],
      "metadata": {
        "id": "6DHP9tquw-YV"
      }
    },
    {
      "cell_type": "code",
      "source": [
        "#printing pyramid pattren\n",
        "n = int(input(\"Enter the number\"))\n",
        "i = 0\n",
        "while i<n:\n",
        "  for j in range(1,n-i):\n",
        "    print(\" \",end=\"\")\n",
        "  for k in range(i+1):\n",
        "    print(\"x \",end=\"\")\n",
        "  i += 1\n",
        "  print()"
      ],
      "metadata": {
        "colab": {
          "base_uri": "https://localhost:8080/"
        },
        "id": "lz52dq96xDBh",
        "outputId": "eb383fc7-3656-469a-cc22-fd5d2f0d6d71"
      },
      "execution_count": 22,
      "outputs": [
        {
          "output_type": "stream",
          "name": "stdout",
          "text": [
            "Enter the number5\n",
            "    x \n",
            "   x x \n",
            "  x x x \n",
            " x x x x \n",
            "x x x x x \n"
          ]
        }
      ]
    },
    {
      "cell_type": "code",
      "source": [
        "n = int(input(\"Enter the size of the multiplication table: \"))\n",
        "for i in range(1, n+1):\n",
        "    for j in range(1, n+1):\n",
        "        print(i * j, end='\\t')\n",
        "    print()"
      ],
      "metadata": {
        "colab": {
          "base_uri": "https://localhost:8080/"
        },
        "id": "vGr9rrvzU4gA",
        "outputId": "d36f61a0-a7ae-4cf0-9d6a-66badc54f3dd"
      },
      "execution_count": 25,
      "outputs": [
        {
          "output_type": "stream",
          "name": "stdout",
          "text": [
            "Enter the size of the multiplication table: 7\n",
            "1\t2\t3\t4\t5\t6\t7\t\n",
            "2\t4\t6\t8\t10\t12\t14\t\n",
            "3\t6\t9\t12\t15\t18\t21\t\n",
            "4\t8\t12\t16\t20\t24\t28\t\n",
            "5\t10\t15\t20\t25\t30\t35\t\n",
            "6\t12\t18\t24\t30\t36\t42\t\n",
            "7\t14\t21\t28\t35\t42\t49\t\n"
          ]
        }
      ]
    }
  ]
}