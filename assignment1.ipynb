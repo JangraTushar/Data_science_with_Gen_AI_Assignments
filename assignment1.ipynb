{
  "nbformat": 4,
  "nbformat_minor": 0,
  "metadata": {
    "colab": {
      "provenance": []
    },
    "kernelspec": {
      "name": "python3",
      "display_name": "Python 3"
    },
    "language_info": {
      "name": "python"
    }
  },
  "cells": [
    {
      "cell_type": "markdown",
      "source": [
        "ques no. 1"
      ],
      "metadata": {
        "id": "SHEoNZt-GTjR"
      }
    },
    {
      "cell_type": "code",
      "execution_count": 2,
      "metadata": {
        "colab": {
          "base_uri": "https://localhost:8080/"
        },
        "id": "jhrtQbVSvV3r",
        "outputId": "24813362-29ce-48a1-f9a9-f830fe495766"
      },
      "outputs": [
        {
          "output_type": "stream",
          "name": "stdout",
          "text": [
            "<class 'float'>\n",
            "4.0\n"
          ]
        }
      ],
      "source": [
        "a=4\n",
        "s=float(a)\n",
        "print(type(s))\n",
        "print(s)"
      ]
    },
    {
      "cell_type": "markdown",
      "source": [
        "ques no. 2"
      ],
      "metadata": {
        "id": "s6EXBy3tGXxt"
      }
    },
    {
      "cell_type": "code",
      "source": [
        "s=4.2\n",
        "d=int(s)\n",
        "print(type(d))\n",
        "print(d)"
      ],
      "metadata": {
        "colab": {
          "base_uri": "https://localhost:8080/"
        },
        "id": "XtZIIqcMGCUu",
        "outputId": "2c812b57-a3c9-4dab-bb8b-e38fa21f7363"
      },
      "execution_count": 3,
      "outputs": [
        {
          "output_type": "stream",
          "name": "stdout",
          "text": [
            "<class 'int'>\n",
            "4\n"
          ]
        }
      ]
    },
    {
      "cell_type": "markdown",
      "source": [
        "ques no. 3"
      ],
      "metadata": {
        "id": "Swcfu160GbKz"
      }
    },
    {
      "cell_type": "code",
      "source": [
        "w=546746\n",
        "s=str(w)\n",
        "print(type(s))\n",
        "print(s)"
      ],
      "metadata": {
        "colab": {
          "base_uri": "https://localhost:8080/"
        },
        "id": "KdnxcjHcGdkJ",
        "outputId": "cff5480d-c90d-4508-f022-c493701c2263"
      },
      "execution_count": 4,
      "outputs": [
        {
          "output_type": "stream",
          "name": "stdout",
          "text": [
            "<class 'str'>\n",
            "546746\n"
          ]
        }
      ]
    },
    {
      "cell_type": "markdown",
      "source": [
        "ques no. 4"
      ],
      "metadata": {
        "id": "wpQDPO16GvKc"
      }
    },
    {
      "cell_type": "code",
      "source": [
        "l=[\"Tushar\",2,54,5.8]\n",
        "d=tuple(l)\n",
        "print(type(l))\n",
        "print(type(d))\n",
        "print(d)"
      ],
      "metadata": {
        "colab": {
          "base_uri": "https://localhost:8080/"
        },
        "id": "6-if9Z5uGxLq",
        "outputId": "54c7e1af-2289-4060-ab52-54ddc431cadb"
      },
      "execution_count": 5,
      "outputs": [
        {
          "output_type": "stream",
          "name": "stdout",
          "text": [
            "<class 'list'>\n",
            "<class 'tuple'>\n",
            "('Tushar', 2, 54, 5.8)\n"
          ]
        }
      ]
    },
    {
      "cell_type": "markdown",
      "source": [
        "ques no. 5"
      ],
      "metadata": {
        "id": "HMBBi2y4HrI5"
      }
    },
    {
      "cell_type": "code",
      "source": [
        "t=(\"Neeraj\",4,5,7.9)\n",
        "l=list(t)\n",
        "print(type(t))\n",
        "print(type(l))\n",
        "print(l)"
      ],
      "metadata": {
        "colab": {
          "base_uri": "https://localhost:8080/"
        },
        "id": "r9srYaccHtXX",
        "outputId": "00fef1d3-068f-46f3-eee7-9cd786e2d5d0"
      },
      "execution_count": 6,
      "outputs": [
        {
          "output_type": "stream",
          "name": "stdout",
          "text": [
            "<class 'tuple'>\n",
            "<class 'list'>\n",
            "['Neeraj', 4, 5, 7.9]\n"
          ]
        }
      ]
    },
    {
      "cell_type": "markdown",
      "source": [
        "ques no. 6"
      ],
      "metadata": {
        "id": "gFGUAoEFIjtg"
      }
    },
    {
      "cell_type": "code",
      "source": [
        "f=6\n",
        "s=bin(f)\n",
        "print(type(f))\n",
        "print(s)"
      ],
      "metadata": {
        "colab": {
          "base_uri": "https://localhost:8080/"
        },
        "id": "EL4VJ913Iltz",
        "outputId": "0231a7c8-c0ec-4208-bd23-3a0270cff5a9"
      },
      "execution_count": 9,
      "outputs": [
        {
          "output_type": "stream",
          "name": "stdout",
          "text": [
            "<class 'int'>\n",
            "0b110\n"
          ]
        }
      ]
    },
    {
      "cell_type": "markdown",
      "source": [
        "ques no. 8"
      ],
      "metadata": {
        "id": "n656q9-UJT3B"
      }
    },
    {
      "cell_type": "code",
      "source": [
        "h=4\n",
        "g=bool(h)\n",
        "print(g)\n"
      ],
      "metadata": {
        "colab": {
          "base_uri": "https://localhost:8080/"
        },
        "id": "fWf2qfu9JVYA",
        "outputId": "a43c82a8-4e36-468a-cbf7-ed2ae62f8768"
      },
      "execution_count": 10,
      "outputs": [
        {
          "output_type": "stream",
          "name": "stdout",
          "text": [
            "True\n"
          ]
        }
      ]
    }
  ]
}