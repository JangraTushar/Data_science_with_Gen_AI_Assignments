{
  "nbformat": 4,
  "nbformat_minor": 0,
  "metadata": {
    "colab": {
      "provenance": []
    },
    "kernelspec": {
      "name": "python3",
      "display_name": "Python 3"
    },
    "language_info": {
      "name": "python"
    }
  },
  "cells": [
    {
      "cell_type": "markdown",
      "source": [
        "Ques 1"
      ],
      "metadata": {
        "id": "2g-ytFhWbgNX"
      }
    },
    {
      "cell_type": "markdown",
      "source": [
        "Dequeue stands for double ended ques ,i.e it allows you to insert or delete element from both sides but in list you can add or delete element from last (except using index). If we want to delete element from begning of the list the the order of complexity is O(N) but if we want to delete begning element in dequeue then the order is O(1). It is more efficient and fast as compare to list"
      ],
      "metadata": {
        "id": "a-2Ova0jkMuF"
      }
    },
    {
      "cell_type": "markdown",
      "source": [
        "Ques 2"
      ],
      "metadata": {
        "id": "x8713bLq2qJN"
      }
    },
    {
      "cell_type": "markdown",
      "source": [
        "The most common example of stack is text editor if a editor is keep going on editing all the action done by the editor is stored in stack. In this case if the editor want to remove the last action the the action is pop out from the stack but if the action is stored in list the it will take time to search the action which the user want to dlt.\n",
        "The another example of stack is web browser if we open multiple windows on web browser  then all the windows stored in stack if we use back button then we go to the window which we open currently."
      ],
      "metadata": {
        "id": "rcXaXUW82rw8"
      }
    },
    {
      "cell_type": "markdown",
      "source": [],
      "metadata": {
        "id": "mKRvtleB4Kv_"
      }
    },
    {
      "cell_type": "markdown",
      "source": [
        "Ques 3"
      ],
      "metadata": {
        "id": "NIlD-JbB4kl1"
      }
    },
    {
      "cell_type": "markdown",
      "source": [
        "The best thing of using sets in python is that it contain only unique value i.e don't story same value. we can not get the value using indexing but  set store value in unordered format. We can use the set in those problem scenerios where we may get multiple same or different input in this case it does not save the same value multiple time ,only save unique values hence reduce space complexity."
      ],
      "metadata": {
        "id": "3-Q6pht24m9P"
      }
    },
    {
      "cell_type": "markdown",
      "source": [
        "Ques 4"
      ],
      "metadata": {
        "id": "B-qJhQXt5wVD"
      }
    },
    {
      "cell_type": "markdown",
      "source": [
        "Sorting means arranging the elements in ascending order. In array there is continous space allocation but in list no continous space allocation is scene here or second point is that array contain homogenous elements and list contain hetrogenous elements. so comparing the elements it is easy in array due to continous memory allocation or no need to check the data type of element every time in array so that's whay  instead of a list use array for storing numerical data in Python  "
      ],
      "metadata": {
        "id": "PBa_1bVLVB6M"
      }
    },
    {
      "cell_type": "markdown",
      "source": [],
      "metadata": {
        "id": "JQ4mKQPOHqNE"
      }
    },
    {
      "cell_type": "markdown",
      "source": [
        "Ques 5"
      ],
      "metadata": {
        "id": "UhppBmRH5yAU"
      }
    },
    {
      "cell_type": "markdown",
      "source": [
        "Dictionary store the values in key and value formate ;values may be same but keys are unique while list store the data in ordered way we can get the data by index .list are mutable in nature while in dictionary you can't change the key but you can update the values of keys . In programs where you have to story large amount of data and use some data from it ,in this case it is very difficult to remember the index of every element in this case you use library in which you use key to get the element"
      ],
      "metadata": {
        "id": "AHT8EjMSGTAJ"
      }
    },
    {
      "cell_type": "markdown",
      "source": [],
      "metadata": {
        "id": "W5llSmb5YFa6"
      }
    }
  ]
}