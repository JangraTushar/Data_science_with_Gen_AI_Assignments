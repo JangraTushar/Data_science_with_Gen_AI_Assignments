{
  "nbformat": 4,
  "nbformat_minor": 0,
  "metadata": {
    "colab": {
      "provenance": [],
      "authorship_tag": "ABX9TyMyC8W8y6eZ0A/d5UzF1IRz",
      "include_colab_link": true
    },
    "kernelspec": {
      "name": "python3",
      "display_name": "Python 3"
    },
    "language_info": {
      "name": "python"
    }
  },
  "cells": [
    {
      "cell_type": "markdown",
      "metadata": {
        "id": "view-in-github",
        "colab_type": "text"
      },
      "source": [
        "<a href=\"https://colab.research.google.com/github/JangraTushar/Data_science_with_Gen_AI_Assignments/blob/main/Assignment_functions_and_oops.ipynb\" target=\"_parent\"><img src=\"https://colab.research.google.com/assets/colab-badge.svg\" alt=\"Open In Colab\"/></a>"
      ]
    },
    {
      "cell_type": "code",
      "execution_count": null,
      "metadata": {
        "id": "XRyNlT9L2tdZ"
      },
      "outputs": [],
      "source": [
        "Ques 1"
      ]
    },
    {
      "cell_type": "markdown",
      "source": [
        "to use the same code again and again we use function instead of weiting it again . function is a set of instructions works on the arguments you pass while calling the function and give you a desired output after calculation"
      ],
      "metadata": {
        "id": "12iKNFHC2vUj"
      }
    },
    {
      "cell_type": "markdown",
      "source": [
        "Ques 2"
      ],
      "metadata": {
        "id": "dqaBlg5N3Mqk"
      }
    },
    {
      "cell_type": "code",
      "source": [
        "def greet_student(name):\n",
        "  return print(f\"hello {name}\")\n",
        "greet_student(\"Tushar\")"
      ],
      "metadata": {
        "colab": {
          "base_uri": "https://localhost:8080/"
        },
        "id": "SWlNWf1G3bLI",
        "outputId": "449b61af-9d6e-45c3-9a2a-df4bb37bfe27"
      },
      "execution_count": null,
      "outputs": [
        {
          "output_type": "stream",
          "name": "stdout",
          "text": [
            "hello Tushar\n"
          ]
        }
      ]
    },
    {
      "cell_type": "markdown",
      "source": [
        "Ques 3"
      ],
      "metadata": {
        "id": "il8p12qo6d_1"
      }
    },
    {
      "cell_type": "markdown",
      "source": [
        "print comand just print the command you give and print this in the form of string and return statement return the command in the form of variables like integer, character, float data type  we can't use the print statement value but we can use the value of return command everywhere in the code"
      ],
      "metadata": {
        "id": "d-pcTzjC61-p"
      }
    },
    {
      "cell_type": "markdown",
      "source": [
        "Ques 4"
      ],
      "metadata": {
        "id": "HvWv3lwc_-dS"
      }
    },
    {
      "cell_type": "markdown",
      "source": [
        "*args is used to take any no. of input for a given function while *kwargs take any no. of input in key value pair format"
      ],
      "metadata": {
        "id": "WZVCHx9CAFUD"
      }
    },
    {
      "cell_type": "markdown",
      "source": [
        "Ques5"
      ],
      "metadata": {
        "id": "uct-oW3sqBbh"
      }
    },
    {
      "cell_type": "markdown",
      "source": [
        "iterator function is  use to ittrate the elements of a iterable object"
      ],
      "metadata": {
        "id": "InlNUq_NqIVn"
      }
    },
    {
      "cell_type": "markdown",
      "source": [
        "Ques6"
      ],
      "metadata": {
        "id": "hY0mhLSxqf7a"
      }
    },
    {
      "cell_type": "code",
      "source": [
        "for i in range(1,10):\n",
        "  print(i)"
      ],
      "metadata": {
        "colab": {
          "base_uri": "https://localhost:8080/"
        },
        "id": "Pqt2emadqwWH",
        "outputId": "7eb50d90-2fbc-4998-b6dd-be23c9e1ea7c"
      },
      "execution_count": null,
      "outputs": [
        {
          "output_type": "stream",
          "name": "stdout",
          "text": [
            "1\n",
            "2\n",
            "3\n",
            "4\n",
            "5\n",
            "6\n",
            "7\n",
            "8\n",
            "9\n"
          ]
        }
      ]
    },
    {
      "cell_type": "markdown",
      "source": [
        "Ques7"
      ],
      "metadata": {
        "id": "UqXhS6eWq7Hy"
      }
    },
    {
      "cell_type": "code",
      "source": [
        "def is_palindrome(i):\n",
        "  return str(i) == str(i)[::-1]\n",
        "def palindromin_number_upto(n):\n",
        "  for i in range (n):\n",
        "    is_palindrome(i)\n",
        "    yield i"
      ],
      "metadata": {
        "id": "ovnhKUv9tlt-"
      },
      "execution_count": null,
      "outputs": []
    },
    {
      "cell_type": "markdown",
      "source": [
        "Ques8"
      ],
      "metadata": {
        "id": "EdRfKxsq5H-r"
      }
    },
    {
      "cell_type": "code",
      "source": [
        "def even_number(n):\n",
        "  for i in range (n):\n",
        "    if (i%2 == 0):\n",
        "      yield i\n"
      ],
      "metadata": {
        "id": "qPOcGJ4265g1"
      },
      "execution_count": null,
      "outputs": []
    },
    {
      "cell_type": "markdown",
      "source": [
        "Ques 9"
      ],
      "metadata": {
        "id": "uv6CQh9h-Zbw"
      }
    },
    {
      "cell_type": "code",
      "source": [
        "def square_no(n):\n",
        "  for i in range (n):\n",
        "    i = (i**2)\n",
        "    yield i"
      ],
      "metadata": {
        "id": "PIZwHCyz-a-_"
      },
      "execution_count": null,
      "outputs": []
    },
    {
      "cell_type": "markdown",
      "source": [
        "Ques 10"
      ],
      "metadata": {
        "id": "zuSAjC5hnitK"
      }
    },
    {
      "cell_type": "code",
      "source": [
        "def prime_number(n):\n",
        "  primes = []\n",
        "  for possibleprime in range (2,n+1):\n",
        "    isprime = True\n",
        "    for num in range (2,possibleprime):\n",
        "      if possibleprime % num == 0:\n",
        "        isprime = False\n",
        "        break\n",
        "    if isprime == True:\n",
        "      primes.append(possibleprime)\n",
        "      yield possibleprime\n",
        "  return primes\n"
      ],
      "metadata": {
        "id": "NNiZRqX9nmz7"
      },
      "execution_count": null,
      "outputs": []
    },
    {
      "cell_type": "code",
      "source": [
        "prime_number(20)"
      ],
      "metadata": {
        "colab": {
          "base_uri": "https://localhost:8080/"
        },
        "id": "VLygYUeiq3S3",
        "outputId": "65917f80-1f56-49d5-aeec-dd48e5a4d4ee"
      },
      "execution_count": null,
      "outputs": [
        {
          "output_type": "execute_result",
          "data": {
            "text/plain": [
              "<generator object prime_number at 0x798dce2cf0d0>"
            ]
          },
          "metadata": {},
          "execution_count": 19
        }
      ]
    },
    {
      "cell_type": "code",
      "source": [
        "possibleprime = prime_number(20)"
      ],
      "metadata": {
        "id": "zOrcdVhg2Ayc"
      },
      "execution_count": null,
      "outputs": []
    },
    {
      "cell_type": "code",
      "source": [
        "for i in possibleprime:\n",
        "  print(i)"
      ],
      "metadata": {
        "colab": {
          "base_uri": "https://localhost:8080/"
        },
        "id": "vcN-PAuy2HPR",
        "outputId": "1df7b506-27e6-43c7-c1f6-1318e008c459"
      },
      "execution_count": null,
      "outputs": [
        {
          "output_type": "stream",
          "name": "stdout",
          "text": [
            "2\n",
            "3\n",
            "5\n",
            "7\n",
            "11\n",
            "13\n",
            "17\n",
            "19\n"
          ]
        }
      ]
    },
    {
      "cell_type": "markdown",
      "source": [
        "Ques 11"
      ],
      "metadata": {
        "id": "vh_FQiPT2hSS"
      }
    },
    {
      "cell_type": "code",
      "source": [
        "add = lambda x,y : x+y"
      ],
      "metadata": {
        "id": "G4fKSOR72i_P"
      },
      "execution_count": null,
      "outputs": []
    },
    {
      "cell_type": "code",
      "source": [
        "add(3,5)"
      ],
      "metadata": {
        "colab": {
          "base_uri": "https://localhost:8080/"
        },
        "id": "qXJRJok729F1",
        "outputId": "7a2f17d0-ef99-444b-9e70-161a13d512a6"
      },
      "execution_count": null,
      "outputs": [
        {
          "output_type": "execute_result",
          "data": {
            "text/plain": [
              "8"
            ]
          },
          "metadata": {},
          "execution_count": 30
        }
      ]
    },
    {
      "cell_type": "markdown",
      "source": [
        "Ques 12"
      ],
      "metadata": {
        "id": "md8AP9pq2_rv"
      }
    },
    {
      "cell_type": "code",
      "source": [
        "square = lambda x : x**2"
      ],
      "metadata": {
        "id": "GcccwCwG3A1W"
      },
      "execution_count": null,
      "outputs": []
    },
    {
      "cell_type": "code",
      "source": [
        "square(9)"
      ],
      "metadata": {
        "colab": {
          "base_uri": "https://localhost:8080/"
        },
        "id": "f08U80n43IsZ",
        "outputId": "a398ae01-a6ca-4cd8-f37b-a2f86173a195"
      },
      "execution_count": null,
      "outputs": [
        {
          "output_type": "execute_result",
          "data": {
            "text/plain": [
              "81"
            ]
          },
          "metadata": {},
          "execution_count": 32
        }
      ]
    },
    {
      "cell_type": "markdown",
      "source": [
        "Ques 13"
      ],
      "metadata": {
        "id": "6zl0D-7n4OeF"
      }
    },
    {
      "cell_type": "code",
      "source": [
        "check = lambda x : \"even\" if x%2 == 0 else \"odd\""
      ],
      "metadata": {
        "id": "QoLm0B_q4Qd-"
      },
      "execution_count": null,
      "outputs": []
    },
    {
      "cell_type": "code",
      "source": [
        "check(13)"
      ],
      "metadata": {
        "colab": {
          "base_uri": "https://localhost:8080/",
          "height": 35
        },
        "id": "3KNZbAGh4Z6f",
        "outputId": "4e9e5bc3-0a03-40ca-9815-72aa2140cc3f"
      },
      "execution_count": null,
      "outputs": [
        {
          "output_type": "execute_result",
          "data": {
            "text/plain": [
              "'odd'"
            ],
            "application/vnd.google.colaboratory.intrinsic+json": {
              "type": "string"
            }
          },
          "metadata": {},
          "execution_count": 42
        }
      ]
    },
    {
      "cell_type": "markdown",
      "source": [
        "Ques 14"
      ],
      "metadata": {
        "id": "PFBDWJMq38px"
      }
    },
    {
      "cell_type": "markdown",
      "source": [
        "Ques 15"
      ],
      "metadata": {
        "id": "k_NOdWmu36UL"
      }
    },
    {
      "cell_type": "code",
      "source": [
        "add = lambda x,y : x+y"
      ],
      "metadata": {
        "id": "pU8-dMHb4Aj_"
      },
      "execution_count": null,
      "outputs": []
    },
    {
      "cell_type": "code",
      "source": [
        "add(\"my name \",\"is tushar\")"
      ],
      "metadata": {
        "colab": {
          "base_uri": "https://localhost:8080/",
          "height": 35
        },
        "id": "9F_KMD7Y40a9",
        "outputId": "411145bc-a9e6-4821-d312-1d162b262cc1"
      },
      "execution_count": null,
      "outputs": [
        {
          "output_type": "execute_result",
          "data": {
            "text/plain": [
              "'my name is tushar'"
            ],
            "application/vnd.google.colaboratory.intrinsic+json": {
              "type": "string"
            }
          },
          "metadata": {},
          "execution_count": 44
        }
      ]
    },
    {
      "cell_type": "markdown",
      "source": [
        "Ques 16"
      ],
      "metadata": {
        "id": "2881Wq65452d"
      }
    },
    {
      "cell_type": "code",
      "source": [
        "greater = lambda x,y,z : x if x>y and x>z else y if y>z else z"
      ],
      "metadata": {
        "id": "wjQnmupK47Ry"
      },
      "execution_count": null,
      "outputs": []
    },
    {
      "cell_type": "code",
      "source": [
        "greater(3,9,6)"
      ],
      "metadata": {
        "colab": {
          "base_uri": "https://localhost:8080/"
        },
        "id": "PP8zdlzt5Nee",
        "outputId": "43e94291-8391-44aa-dc73-f0dce78a9920"
      },
      "execution_count": null,
      "outputs": [
        {
          "output_type": "execute_result",
          "data": {
            "text/plain": [
              "9"
            ]
          },
          "metadata": {},
          "execution_count": 46
        }
      ]
    },
    {
      "cell_type": "markdown",
      "source": [
        "Ques 17"
      ],
      "metadata": {
        "id": "94DhUH0u6S1u"
      }
    },
    {
      "cell_type": "code",
      "source": [
        "number = [1,2,3,4,5,6,7,8,9,10]"
      ],
      "metadata": {
        "id": "iPMVsFUc6Erj"
      },
      "execution_count": null,
      "outputs": []
    },
    {
      "cell_type": "code",
      "source": [
        "square_number = list(map(square,number))"
      ],
      "metadata": {
        "id": "Q1QlwiaR6RMj"
      },
      "execution_count": null,
      "outputs": []
    },
    {
      "cell_type": "code",
      "source": [
        "square_number"
      ],
      "metadata": {
        "colab": {
          "base_uri": "https://localhost:8080/"
        },
        "id": "MjHhTWV76ifH",
        "outputId": "b144d7fe-8dd3-48cd-dad1-eb6fbd9f32df"
      },
      "execution_count": null,
      "outputs": [
        {
          "output_type": "execute_result",
          "data": {
            "text/plain": [
              "[1, 4, 9, 16, 25, 36, 49, 64, 81, 100]"
            ]
          },
          "metadata": {},
          "execution_count": 52
        }
      ]
    },
    {
      "cell_type": "markdown",
      "source": [
        "Ques 18"
      ],
      "metadata": {
        "id": "sNSKU3wU6vP-"
      }
    },
    {
      "cell_type": "code",
      "source": [
        "def product(x):\n",
        "  final = 1\n",
        "  for i in x:\n",
        "    if i>0:\n",
        "      final = final*i\n",
        "    else:\n",
        "      pass\n",
        "  return final"
      ],
      "metadata": {
        "id": "RgN6E-PY6yHp"
      },
      "execution_count": null,
      "outputs": []
    },
    {
      "cell_type": "code",
      "source": [
        "number = [1,2,3,-6,5,7,-8,-9]"
      ],
      "metadata": {
        "id": "OQ4ey1637ZYt"
      },
      "execution_count": null,
      "outputs": []
    },
    {
      "cell_type": "code",
      "source": [
        "product(number)"
      ],
      "metadata": {
        "colab": {
          "base_uri": "https://localhost:8080/"
        },
        "id": "ArLhm7s77kua",
        "outputId": "e2526ee5-04b7-43db-a615-348e3f6b2728"
      },
      "execution_count": null,
      "outputs": [
        {
          "output_type": "execute_result",
          "data": {
            "text/plain": [
              "210"
            ]
          },
          "metadata": {},
          "execution_count": 55
        }
      ]
    },
    {
      "cell_type": "markdown",
      "source": [
        "Ques  19"
      ],
      "metadata": {
        "id": "uqe4RCGZFvHc"
      }
    },
    {
      "cell_type": "code",
      "source": [
        "number = [1,2,3,4,5,6,7,8,9,10]"
      ],
      "metadata": {
        "id": "tSvnpmwcEsYb"
      },
      "execution_count": null,
      "outputs": []
    },
    {
      "cell_type": "code",
      "source": [
        "nums=[]\n",
        "for i in number:\n",
        "  if i%2 != 0:\n",
        "    nums.append(i*2)\n",
        "  else:\n",
        "    pass\n",
        "print(nums)"
      ],
      "metadata": {
        "colab": {
          "base_uri": "https://localhost:8080/"
        },
        "id": "1RR3c22FEwH6",
        "outputId": "29c66512-cfc1-41f9-b078-95a2f0727432"
      },
      "execution_count": null,
      "outputs": [
        {
          "output_type": "stream",
          "name": "stdout",
          "text": [
            "[2, 6, 10, 14, 18]\n"
          ]
        }
      ]
    },
    {
      "cell_type": "markdown",
      "source": [
        "Ques 20"
      ],
      "metadata": {
        "id": "zSDY8_QyFwrw"
      }
    },
    {
      "cell_type": "code",
      "source": [
        "number = [1,2,3,4,5]"
      ],
      "metadata": {
        "id": "kNdf4UN2FxzE"
      },
      "execution_count": null,
      "outputs": []
    },
    {
      "cell_type": "code",
      "source": [
        "sum = 0\n",
        "for i in number:\n",
        "  sum = sum + i**3\n",
        "print(sum)"
      ],
      "metadata": {
        "colab": {
          "base_uri": "https://localhost:8080/"
        },
        "id": "6nfmqezaGBpt",
        "outputId": "8b01c195-a583-46a5-fa41-53952f77d13e"
      },
      "execution_count": null,
      "outputs": [
        {
          "output_type": "stream",
          "name": "stdout",
          "text": [
            "225\n"
          ]
        }
      ]
    },
    {
      "cell_type": "markdown",
      "source": [
        "Ques 21"
      ],
      "metadata": {
        "id": "LFe30DPSGcEo"
      }
    },
    {
      "cell_type": "code",
      "source": [
        "def is_prime(num):\n",
        "    if num < 2:\n",
        "        return False\n",
        "    for i in range(2, int(num**0.5) + 1):\n",
        "        if num % i == 0:\n",
        "            return False\n",
        "    return True\n"
      ],
      "metadata": {
        "id": "tug7jlXCGdh_"
      },
      "execution_count": null,
      "outputs": []
    },
    {
      "cell_type": "code",
      "source": [
        "def filter_primes(num_list):\n",
        "    \"\"\"Filter out prime numbers from a given list.\"\"\"\n",
        "    return [num for num in num_list if is_prime(num)]"
      ],
      "metadata": {
        "id": "7dG0UF0iN0Dz"
      },
      "execution_count": null,
      "outputs": []
    },
    {
      "cell_type": "code",
      "source": [
        "number =  [2,3,4,5,6,7,8,9,10,11]\n",
        "filter_primes(number)"
      ],
      "metadata": {
        "colab": {
          "base_uri": "https://localhost:8080/"
        },
        "id": "sf4A_Vm1OCBr",
        "outputId": "b047c29e-36b1-4b40-f17a-d528c89c93ff"
      },
      "execution_count": null,
      "outputs": [
        {
          "output_type": "execute_result",
          "data": {
            "text/plain": [
              "[2, 3, 5, 7, 11]"
            ]
          },
          "metadata": {},
          "execution_count": 67
        }
      ]
    },
    {
      "cell_type": "code",
      "source": [
        "Ques 22"
      ],
      "metadata": {
        "id": "P0A92O8lOb7x"
      },
      "execution_count": null,
      "outputs": []
    },
    {
      "cell_type": "code",
      "source": [
        "add  = lambda x,y : x+y"
      ],
      "metadata": {
        "id": "1O3JOaEKOe_y"
      },
      "execution_count": null,
      "outputs": []
    },
    {
      "cell_type": "code",
      "source": [
        "add(7,6)"
      ],
      "metadata": {
        "colab": {
          "base_uri": "https://localhost:8080/"
        },
        "id": "ESkxcuQTOnRQ",
        "outputId": "672c0db8-90df-4529-9fa3-6528f8404370"
      },
      "execution_count": null,
      "outputs": [
        {
          "output_type": "execute_result",
          "data": {
            "text/plain": [
              "13"
            ]
          },
          "metadata": {},
          "execution_count": 69
        }
      ]
    },
    {
      "cell_type": "markdown",
      "source": [
        "Ques 23"
      ],
      "metadata": {
        "id": "BNhSABUbOpsM"
      }
    },
    {
      "cell_type": "code",
      "source": [
        "square = lambda x : x**2"
      ],
      "metadata": {
        "id": "LM6IVFH1OrdZ"
      },
      "execution_count": null,
      "outputs": []
    },
    {
      "cell_type": "code",
      "source": [
        "square(6)"
      ],
      "metadata": {
        "colab": {
          "base_uri": "https://localhost:8080/"
        },
        "id": "INTrC19ROyLq",
        "outputId": "e856da92-e944-4714-84f0-016b4303c88f"
      },
      "execution_count": null,
      "outputs": [
        {
          "output_type": "execute_result",
          "data": {
            "text/plain": [
              "36"
            ]
          },
          "metadata": {},
          "execution_count": 71
        }
      ]
    },
    {
      "cell_type": "code",
      "source": [
        "Ques 24"
      ],
      "metadata": {
        "id": "RDqdmvdgO0dc"
      },
      "execution_count": null,
      "outputs": []
    },
    {
      "cell_type": "code",
      "source": [
        "check = lambda x : \"even\" if x%2 == 0 else \"odd\""
      ],
      "metadata": {
        "id": "PT0SAJj1O2GZ"
      },
      "execution_count": null,
      "outputs": []
    },
    {
      "cell_type": "code",
      "source": [
        "check(18)"
      ],
      "metadata": {
        "colab": {
          "base_uri": "https://localhost:8080/",
          "height": 35
        },
        "id": "qN-X3lNOO-hw",
        "outputId": "81f00016-9d73-4a41-8074-02180dc5edb8"
      },
      "execution_count": null,
      "outputs": [
        {
          "output_type": "execute_result",
          "data": {
            "text/plain": [
              "'even'"
            ],
            "application/vnd.google.colaboratory.intrinsic+json": {
              "type": "string"
            }
          },
          "metadata": {},
          "execution_count": 73
        }
      ]
    },
    {
      "cell_type": "markdown",
      "source": [
        "Ques 25"
      ],
      "metadata": {
        "id": "EcW-uXqxPCHR"
      }
    },
    {
      "cell_type": "code",
      "source": [
        "add = lambda x,y : x+y"
      ],
      "metadata": {
        "id": "GM1pA9MUPEgU"
      },
      "execution_count": null,
      "outputs": []
    },
    {
      "cell_type": "code",
      "source": [
        "add(\"I am \", \"Tushar\")"
      ],
      "metadata": {
        "colab": {
          "base_uri": "https://localhost:8080/",
          "height": 35
        },
        "id": "6rL5fEb8PMVx",
        "outputId": "a2e9d94c-23af-46aa-dcdf-62546a3b4f02"
      },
      "execution_count": null,
      "outputs": [
        {
          "output_type": "execute_result",
          "data": {
            "text/plain": [
              "'I am Tushar'"
            ],
            "application/vnd.google.colaboratory.intrinsic+json": {
              "type": "string"
            }
          },
          "metadata": {},
          "execution_count": 75
        }
      ]
    },
    {
      "cell_type": "markdown",
      "source": [
        "Ques 26"
      ],
      "metadata": {
        "id": "cPYLRE6pPQ8G"
      }
    },
    {
      "cell_type": "code",
      "source": [
        "maximum = lambda x,y,z : x if x>y and x>z else y if y>z else z"
      ],
      "metadata": {
        "id": "ZdFck9G7PSx2"
      },
      "execution_count": null,
      "outputs": []
    },
    {
      "cell_type": "code",
      "source": [
        "maximum(12,26,9)"
      ],
      "metadata": {
        "colab": {
          "base_uri": "https://localhost:8080/"
        },
        "id": "VaoHKHc5Pgum",
        "outputId": "c66dfae8-07df-43a1-c858-d02a20d5311c"
      },
      "execution_count": null,
      "outputs": [
        {
          "output_type": "execute_result",
          "data": {
            "text/plain": [
              "26"
            ]
          },
          "metadata": {},
          "execution_count": 77
        }
      ]
    },
    {
      "cell_type": "markdown",
      "source": [
        "Ques 27"
      ],
      "metadata": {
        "id": "2yVA4X3lPnIR"
      }
    },
    {
      "cell_type": "markdown",
      "source": [
        "Bundling of data and methods by using access modifiers i.e public, private , protected"
      ],
      "metadata": {
        "id": "BI2pgWNuQOmn"
      }
    },
    {
      "cell_type": "markdown",
      "source": [
        "Ques 28"
      ],
      "metadata": {
        "id": "pPm5BVHAQdIl"
      }
    },
    {
      "cell_type": "markdown",
      "source": [
        "# public access modifier\n",
        "in this category we can update the value of variables outside the class or we can access the variable outside the class\n",
        "# private access modifier\n",
        "in this category we can not access the variable outside the class we can use it and update it within the class\n",
        "# protected access modifier\n",
        "in this category we can access the variable inside the class and derived or subclass and also modify within class or subclass"
      ],
      "metadata": {
        "id": "XLn0vWGQQj3a"
      }
    },
    {
      "cell_type": "markdown",
      "source": [
        "Ques 29"
      ],
      "metadata": {
        "id": "SRDhu0adRbvK"
      }
    },
    {
      "cell_type": "markdown",
      "source": [
        "inheritance is use to tae the propertes of any class in that class. The class whose properties are taken is known as parents class its a biological word inheritance we can define it as, define the class and pass the parent class in brackets"
      ],
      "metadata": {
        "id": "1uuWSb7GRjnR"
      }
    },
    {
      "cell_type": "markdown",
      "source": [
        "Ques 30"
      ],
      "metadata": {
        "id": "Il1joaorSHk6"
      }
    },
    {
      "cell_type": "markdown",
      "source": [
        "polymorphism means same function name (but different signatures) being used for different types there are two methods of polymorphism overloading and overriding"
      ],
      "metadata": {
        "id": "slVc9k6oSI8P"
      }
    },
    {
      "cell_type": "markdown",
      "source": [
        "Ques 31"
      ],
      "metadata": {
        "id": "UEHiXovLSoWy"
      }
    },
    {
      "cell_type": "code",
      "source": [
        "#method overriding in python\n",
        "class animal:\n",
        "  def sound (self):\n",
        "    print(\"animal make sound\")\n",
        "class dog (animal):\n",
        "  def sound(self):\n",
        "    print(\"dog barks\")\n",
        "class cat (animal):\n",
        "  def sound(self):\n",
        "    print(\"cat meows\")"
      ],
      "metadata": {
        "id": "h8ddGbXzSqZy"
      },
      "execution_count": null,
      "outputs": []
    },
    {
      "cell_type": "code",
      "source": [
        "cat1 = cat()"
      ],
      "metadata": {
        "id": "HeFj3g-5TKqE"
      },
      "execution_count": null,
      "outputs": []
    },
    {
      "cell_type": "code",
      "source": [
        "cat1.sound()"
      ],
      "metadata": {
        "id": "-oDB4nzMTxcL",
        "outputId": "2205b4cd-8d5b-48ad-bf9a-8d53905b40f8",
        "colab": {
          "base_uri": "https://localhost:8080/"
        }
      },
      "execution_count": null,
      "outputs": [
        {
          "output_type": "stream",
          "name": "stdout",
          "text": [
            "cat meows\n"
          ]
        }
      ]
    },
    {
      "cell_type": "markdown",
      "source": [
        "Ques 32"
      ],
      "metadata": {
        "id": "GBwdGxX63JdR"
      }
    },
    {
      "cell_type": "code",
      "source": [
        "class Animal:\n",
        "  def make_sound(self):\n",
        "    print(\"agaeneric animal sound\")\n",
        "class Dog(Animal):\n",
        "  def make_sound (self):\n",
        "    print(\"woff\")"
      ],
      "metadata": {
        "id": "31sV_GD23Lhf"
      },
      "execution_count": null,
      "outputs": []
    },
    {
      "cell_type": "code",
      "source": [
        "dog = Dog()"
      ],
      "metadata": {
        "id": "jhwPtukm37c0"
      },
      "execution_count": null,
      "outputs": []
    },
    {
      "cell_type": "code",
      "source": [
        "dog.make_sound()"
      ],
      "metadata": {
        "colab": {
          "base_uri": "https://localhost:8080/"
        },
        "id": "2FHcZeHJ3-UX",
        "outputId": "88ed98a7-cc79-4bac-84ce-4efeabd5e194"
      },
      "execution_count": null,
      "outputs": [
        {
          "output_type": "stream",
          "name": "stdout",
          "text": [
            "woff\n"
          ]
        }
      ]
    },
    {
      "cell_type": "markdown",
      "source": [
        "Ques 33"
      ],
      "metadata": {
        "id": "BgiiuDUJ4Bzq"
      }
    },
    {
      "cell_type": "code",
      "source": [
        "def move(self):\n",
        "  print(\"aniaml moves\")\n",
        "Animal.move=classmethod(move)"
      ],
      "metadata": {
        "id": "XgDolWjH4nq6"
      },
      "execution_count": null,
      "outputs": []
    },
    {
      "cell_type": "code",
      "source": [
        "def move(self):\n",
        "  print(\"dog runs\")\n",
        "Dog.move=classmethod(move)"
      ],
      "metadata": {
        "id": "wfz-RvX44_Pp"
      },
      "execution_count": null,
      "outputs": []
    },
    {
      "cell_type": "code",
      "source": [
        "dog = Dog()"
      ],
      "metadata": {
        "id": "HtoVOunN6HGb"
      },
      "execution_count": null,
      "outputs": []
    },
    {
      "cell_type": "code",
      "source": [
        "dog.move()"
      ],
      "metadata": {
        "colab": {
          "base_uri": "https://localhost:8080/"
        },
        "id": "l5kzX5g36izh",
        "outputId": "907dd0f1-79be-4b98-8d91-752d7d394314"
      },
      "execution_count": null,
      "outputs": [
        {
          "output_type": "stream",
          "name": "stdout",
          "text": [
            "dog runs\n"
          ]
        }
      ]
    },
    {
      "cell_type": "code",
      "source": [
        "class Animal:\n",
        "  def make_sound(self):\n",
        "    print(\"agaeneric animal sound\")\n",
        "  def move(self):\n",
        "    print(\"aniaml moves\")\n",
        "class Dog(Animal):\n",
        "  def make_sound (self):\n",
        "    print(\"woff\")\n",
        "  def move(self):\n",
        "    print(\"dog runs\")"
      ],
      "metadata": {
        "id": "jpyxf4SO62sz"
      },
      "execution_count": null,
      "outputs": []
    },
    {
      "cell_type": "code",
      "source": [
        "dog = Dog()"
      ],
      "metadata": {
        "id": "MOUv2cEr7Geh"
      },
      "execution_count": null,
      "outputs": []
    },
    {
      "cell_type": "code",
      "source": [
        "dog.move()"
      ],
      "metadata": {
        "colab": {
          "base_uri": "https://localhost:8080/"
        },
        "id": "0gp68zfn7IcA",
        "outputId": "f92658c5-e8f1-410b-c649-3257f366efe5"
      },
      "execution_count": null,
      "outputs": [
        {
          "output_type": "stream",
          "name": "stdout",
          "text": [
            "dog runs\n"
          ]
        }
      ]
    },
    {
      "cell_type": "markdown",
      "source": [
        "Ques 34"
      ],
      "metadata": {
        "id": "DSitfebJ7MeT"
      }
    },
    {
      "cell_type": "code",
      "source": [
        "class Mammal:\n",
        "  def reproduce(self):\n",
        "    print(\"give birth to live once\")\n"
      ],
      "metadata": {
        "id": "Nll_v2ik7N7T"
      },
      "execution_count": null,
      "outputs": []
    },
    {
      "cell_type": "code",
      "source": [
        "class DogMammal(Dog,Mammal):\n",
        "  pass"
      ],
      "metadata": {
        "id": "HAL975TY78Jk"
      },
      "execution_count": null,
      "outputs": []
    },
    {
      "cell_type": "code",
      "source": [
        "dogmammal = DogMammal()"
      ],
      "metadata": {
        "id": "07dJZT7uAnau"
      },
      "execution_count": null,
      "outputs": []
    },
    {
      "cell_type": "code",
      "source": [
        "dogmammal.reproduce()"
      ],
      "metadata": {
        "colab": {
          "base_uri": "https://localhost:8080/"
        },
        "id": "YGhayUSnBM7m",
        "outputId": "345b3d98-2fc1-434c-f6a7-07088bf3c38c"
      },
      "execution_count": null,
      "outputs": [
        {
          "output_type": "stream",
          "name": "stdout",
          "text": [
            "give birth to live once\n"
          ]
        }
      ]
    },
    {
      "cell_type": "markdown",
      "source": [
        "Ques 35"
      ],
      "metadata": {
        "id": "FHD02nr3BYGQ"
      }
    },
    {
      "cell_type": "code",
      "source": [
        "class Germanshepherd(Dog):\n",
        "  def make_sound(self):\n",
        "    print(\"bark\")"
      ],
      "metadata": {
        "id": "zDlt_wC8BaWQ"
      },
      "execution_count": null,
      "outputs": []
    },
    {
      "cell_type": "code",
      "source": [
        "germanshepherd = Germanshepherd()"
      ],
      "metadata": {
        "id": "cXSSa12nBr7K"
      },
      "execution_count": null,
      "outputs": []
    },
    {
      "cell_type": "code",
      "source": [
        "germanshepherd.make_sound()"
      ],
      "metadata": {
        "colab": {
          "base_uri": "https://localhost:8080/"
        },
        "id": "NduYiwIdBvDE",
        "outputId": "797d8fcb-b4d3-4650-83b1-244c0910481a"
      },
      "execution_count": null,
      "outputs": [
        {
          "output_type": "stream",
          "name": "stdout",
          "text": [
            "bark\n"
          ]
        }
      ]
    },
    {
      "cell_type": "markdown",
      "source": [
        "Ques 36"
      ],
      "metadata": {
        "id": "facxqzvfMF8E"
      }
    },
    {
      "cell_type": "code",
      "source": [
        "class Animal:\n",
        "  def __init__(self,limbs,tail):\n",
        "    self.limbs = limbs\n",
        "    self.tail = tail\n",
        "  def show(self):\n",
        "    print(f\"animals have {limbs} and a {tails}\")\n",
        "class Dog(Animal):\n",
        "  def __init__(self,limbs,tail,breed):\n",
        "    super().__init__(limbs,tail)\n",
        "    self.breed = breed\n",
        "  def show(self):\n",
        "    print(f\"dogs have {self.limbs} and a {self.tail} and its breed is {self.breed}\")\n"
      ],
      "metadata": {
        "id": "XGgHJ7TEMIAC"
      },
      "execution_count": null,
      "outputs": []
    },
    {
      "cell_type": "code",
      "source": [
        "dog = Dog(4,\"long tail\",\"dobermand\")"
      ],
      "metadata": {
        "id": "jyCuUCZDNIKw"
      },
      "execution_count": null,
      "outputs": []
    },
    {
      "cell_type": "code",
      "source": [
        "dog.show()"
      ],
      "metadata": {
        "colab": {
          "base_uri": "https://localhost:8080/"
        },
        "id": "vQXXm3ZYNTtj",
        "outputId": "feb29069-9002-49fa-b093-0b1eb7cda2ab"
      },
      "execution_count": null,
      "outputs": [
        {
          "output_type": "stream",
          "name": "stdout",
          "text": [
            "dogs have 4 and a long tail and its breed is dobermand\n"
          ]
        }
      ]
    },
    {
      "cell_type": "markdown",
      "source": [
        "Ques 37"
      ],
      "metadata": {
        "id": "MKKdnJreOyFk"
      }
    },
    {
      "cell_type": "markdown",
      "source": [
        "abstraction is the method of hiding the complex implementation of the class functions.  \n",
        "It is achived by using import library abc and using the @abstractmethod   "
      ],
      "metadata": {
        "id": "xU7tkXh6QFMg"
      }
    },
    {
      "cell_type": "markdown",
      "source": [
        "Ques 38"
      ],
      "metadata": {
        "id": "ps1rQ0MOQibR"
      }
    },
    {
      "cell_type": "markdown",
      "source": [
        "it reduces the complexity of viewing the things. Helps to increase security of an application or program as only important details are provided to the user. Avoids code duplication and increases reusability."
      ],
      "metadata": {
        "id": "TW_y-8WuREO6"
      }
    },
    {
      "cell_type": "markdown",
      "source": [
        "Ques 39"
      ],
      "metadata": {
        "id": "nLaXhre_RGDs"
      }
    },
    {
      "cell_type": "markdown",
      "source": [
        "An abstract method is a method that has a declaration but does not have an implementation. We use an abstract class while we are designing large functional units or when we want to provide a common interface for different implementations of a component.For abstract methods, you have to provide an implementation in by creating a derived class. For non-abstract methods, there is no need to provide an implementation in derived class"
      ],
      "metadata": {
        "id": "D5uiV153v8pl"
      }
    },
    {
      "cell_type": "markdown",
      "source": [
        "Ques 40"
      ],
      "metadata": {
        "id": "ecerf3UjwN_P"
      }
    },
    {
      "cell_type": "code",
      "source": [
        "from abc import ABC\n",
        "\n",
        "class Shape(ABC):\n",
        "    @abstractmethod\n",
        "    def area(self):\n",
        "        pass\n",
        "\n",
        "    @abstractmethod\n",
        "    def perimeter(self):\n",
        "        pass\n",
        "\n",
        "class Rectangle(Shape):\n",
        "    def __init__(self, width, height):\n",
        "        self.width = width\n",
        "        self.height = height\n",
        "\n",
        "    def area(self):\n",
        "        return self.width * self.height\n",
        "\n",
        "    def perimeter(self):\n",
        "        return 2 * (self.width + self.height)\n",
        "\n",
        "rect = Rectangle(10, 20)\n",
        "print(rect.area())\n",
        "print(rect.perimeter())\n"
      ],
      "metadata": {
        "colab": {
          "base_uri": "https://localhost:8080/"
        },
        "id": "sx0Z09HHw0DO",
        "outputId": "a80d418a-354c-427f-9d16-3d8907379f84"
      },
      "execution_count": null,
      "outputs": [
        {
          "output_type": "stream",
          "name": "stdout",
          "text": [
            "200\n",
            "60\n"
          ]
        }
      ]
    },
    {
      "cell_type": "markdown",
      "source": [
        "Ques 41"
      ],
      "metadata": {
        "id": "M3MkTUPVxIMP"
      }
    },
    {
      "cell_type": "code",
      "source": [
        "from abc import ABC, abstractmethod\n",
        "\n",
        "class Shape(ABC):\n",
        "    @abstractmethod\n",
        "    def area(self):\n",
        "        pass\n",
        "\n",
        "    @abstractmethod\n",
        "    def perimeter(self):\n",
        "        pass\n",
        "\n",
        "class Rectangle(Shape):\n",
        "    def __init__(self, width, height):\n",
        "        self.width = width\n",
        "        self.height = height\n",
        "\n",
        "    def area(self):\n",
        "        return self.width * self.height\n",
        "\n",
        "    def perimeter(self):\n",
        "        return 2 * (self.width + self.height)\n",
        "class Square(Shape):\n",
        "    def __init__(self, side):\n",
        "        self.side = side\n",
        "\n",
        "    def area(self):\n",
        "        return self.side * self.side\n",
        "\n",
        "    def perimeter(self):\n",
        "        return 4 * self.side\n",
        "rect = Rectangle(10, 20)\n",
        "print(rect.area())\n",
        "print(rect.perimeter())\n",
        "\n",
        "square = Square(5)\n",
        "print(square.area())\n",
        "print(square.perimeter())\n"
      ],
      "metadata": {
        "colab": {
          "base_uri": "https://localhost:8080/"
        },
        "id": "HCY-jreIxNeY",
        "outputId": "7fcd9a92-9dbd-4f50-f3e9-05eb39774afc"
      },
      "execution_count": null,
      "outputs": [
        {
          "output_type": "stream",
          "name": "stdout",
          "text": [
            "200\n",
            "60\n",
            "25\n",
            "20\n"
          ]
        }
      ]
    },
    {
      "cell_type": "markdown",
      "source": [
        "Ques 42"
      ],
      "metadata": {
        "id": "TUQtoWG1xs8x"
      }
    },
    {
      "cell_type": "code",
      "source": [
        "class Animal():\n",
        "  def sound(self):\n",
        "    print(\"animal makes sound\")\n",
        "class Dog(Animal):\n",
        "  def sound(self):\n",
        "    print(\"dog barks\")\n",
        "class Cat(Animal):\n",
        "  def sound(self):\n",
        "    print(\"cat meows\")"
      ],
      "metadata": {
        "id": "yF4sAqfIxudw"
      },
      "execution_count": null,
      "outputs": []
    },
    {
      "cell_type": "code",
      "source": [
        "cat = Cat()"
      ],
      "metadata": {
        "id": "s8L-qB9EijLP"
      },
      "execution_count": null,
      "outputs": []
    },
    {
      "cell_type": "code",
      "source": [
        "cat.sound()"
      ],
      "metadata": {
        "colab": {
          "base_uri": "https://localhost:8080/"
        },
        "id": "LoxL7Yvcir-Q",
        "outputId": "13a6724d-e446-4d06-85cf-a80d80d57f2b"
      },
      "execution_count": null,
      "outputs": [
        {
          "output_type": "stream",
          "name": "stdout",
          "text": [
            "cat meows\n"
          ]
        }
      ]
    },
    {
      "cell_type": "markdown",
      "source": [
        "Ques 43"
      ],
      "metadata": {
        "id": "IyUr9D3Oiutv"
      }
    },
    {
      "cell_type": "code",
      "source": [
        "class Animal():\n",
        "  def sound(self):\n",
        "    print(\"animal makes sound\")\n",
        "class Dog(Animal):\n",
        "  def sound(self):\n",
        "    print(\"dog barks\")"
      ],
      "metadata": {
        "id": "RupH1fOpi2I8"
      },
      "execution_count": null,
      "outputs": []
    },
    {
      "cell_type": "code",
      "source": [
        "dog = Dog()\n",
        "dog.sound()"
      ],
      "metadata": {
        "colab": {
          "base_uri": "https://localhost:8080/"
        },
        "id": "1Nk9lx6Bi5KM",
        "outputId": "14612f09-f227-43e1-8562-c2f5dc92f923"
      },
      "execution_count": null,
      "outputs": [
        {
          "output_type": "stream",
          "name": "stdout",
          "text": [
            "dog barks\n"
          ]
        }
      ]
    },
    {
      "cell_type": "markdown",
      "source": [
        "Ques 44"
      ],
      "metadata": {
        "id": "3HHZOwbLi9iY"
      }
    },
    {
      "cell_type": "code",
      "source": [
        "class Animal():\n",
        "  def sound(self):\n",
        "    print(\"animal makes sound\")\n",
        "class Dog(Animal):\n",
        "  def sound(self):\n",
        "    print(\"dog barks\")\n",
        "class Cat(Animal):\n",
        "  def sound(self):\n",
        "    print(\"cat meows\")"
      ],
      "metadata": {
        "id": "j8bTo9sjkXdM"
      },
      "execution_count": null,
      "outputs": []
    },
    {
      "cell_type": "markdown",
      "source": [
        "Ques 45"
      ],
      "metadata": {
        "id": "A44-kTKEkeB1"
      }
    },
    {
      "cell_type": "markdown",
      "source": [
        "Polymorphism improve code readability by using code reuse and eliminating redundancy.This is because polymorphic behavior allows you to use a single interface to represent different data types.By polymorphism the derived class inherit the function from parent class and modify acc. to the need of the derived classes like in mathematical shapes we define area in parentclass and use in different subclasses acc to the attribute depend on the shape of the object"
      ],
      "metadata": {
        "id": "l-YbRpy6nfJr"
      }
    },
    {
      "cell_type": "markdown",
      "source": [
        "Ques 46"
      ],
      "metadata": {
        "id": "qpo_dIaEpDHz"
      }
    },
    {
      "cell_type": "markdown",
      "source": [
        "Duck Typing is a type system used in dynamic languages. For example, Python, Perl, Ruby, PHP, Javascript, etc. where the type or the class of an object is less important than the method it defines. Using Duck Typing, we do not check types at all. Instead, we check for the presence of a given method or attribute."
      ],
      "metadata": {
        "id": "EpoWjiImsIFh"
      }
    },
    {
      "cell_type": "code",
      "source": [
        "x = \"hello\"\n",
        "print(len(x))"
      ],
      "metadata": {
        "colab": {
          "base_uri": "https://localhost:8080/"
        },
        "id": "qUUFLhRosJ1o",
        "outputId": "898aa4dc-90d1-4ffe-f081-df3f02244c4a"
      },
      "execution_count": null,
      "outputs": [
        {
          "output_type": "stream",
          "name": "stdout",
          "text": [
            "5\n"
          ]
        }
      ]
    },
    {
      "cell_type": "code",
      "source": [
        "class Book():\n",
        "  def __init__(self,price,pages):\n",
        "    self.price = price\n",
        "    self.pages = pages"
      ],
      "metadata": {
        "id": "8PTsRuwYsXxm"
      },
      "execution_count": null,
      "outputs": []
    },
    {
      "cell_type": "markdown",
      "source": [
        "if we check len(book) it will generate error bcz this function dosent support in this class but if we defin it in that class then it works"
      ],
      "metadata": {
        "id": "m8qWyAnAsmuW"
      }
    },
    {
      "cell_type": "code",
      "source": [
        "class Book():\n",
        "  def __init__(self,price,pages):\n",
        "    self.price = price\n",
        "    self.pages = pages\n",
        "  def __len__(self):\n",
        "    return self.pages"
      ],
      "metadata": {
        "id": "A9ZRwFCJs1ib"
      },
      "execution_count": null,
      "outputs": []
    },
    {
      "cell_type": "code",
      "source": [
        "book = Book(100,200)\n",
        "print(len(book))"
      ],
      "metadata": {
        "colab": {
          "base_uri": "https://localhost:8080/"
        },
        "id": "kLn4eMwOs93a",
        "outputId": "8859ac7e-31cf-4b52-bbb1-687d99c09eb8"
      },
      "execution_count": null,
      "outputs": [
        {
          "output_type": "stream",
          "name": "stdout",
          "text": [
            "200\n"
          ]
        }
      ]
    },
    {
      "cell_type": "markdown",
      "source": [
        "Ques47"
      ],
      "metadata": {
        "id": "9Nh6hVphtRCo"
      }
    },
    {
      "cell_type": "markdown",
      "source": [
        "encapsulation means hiding the data or bundling of data and methods we can achive it by using access modifiers"
      ],
      "metadata": {
        "id": "5dv6--edtd6o"
      }
    },
    {
      "cell_type": "markdown",
      "source": [
        "Ques 48"
      ],
      "metadata": {
        "id": "3BLyJ5FdtqgC"
      }
    },
    {
      "cell_type": "markdown",
      "source": [
        "yes we can bypass encapsulation by direct accessing or getter setter"
      ],
      "metadata": {
        "id": "-3jbnE6Tx4b3"
      }
    },
    {
      "cell_type": "code",
      "source": [
        "class MyClass:\n",
        "    def __init__(self):\n",
        "        self.__privateVar = 10\n",
        "\n",
        "    def get_private_var(self):\n",
        "        return self.__privateVar\n",
        "\n",
        "obj = MyClass()\n",
        "print(obj.get_private_var())\n",
        "\n",
        "# Bypassing encapsulation\n",
        "print(obj._MyClass__privateVar)\n",
        "print(getattr(obj, '_MyClass__privateVar'))\n",
        "setattr(obj, '_MyClass__privateVar', 20)\n",
        "print(obj.get_private_var())"
      ],
      "metadata": {
        "colab": {
          "base_uri": "https://localhost:8080/"
        },
        "id": "SPhMSvhjx_qf",
        "outputId": "4bd764bb-d0ae-4894-c94c-469bf4512dc5"
      },
      "execution_count": null,
      "outputs": [
        {
          "output_type": "stream",
          "name": "stdout",
          "text": [
            "10\n",
            "10\n",
            "10\n",
            "20\n"
          ]
        }
      ]
    },
    {
      "cell_type": "markdown",
      "source": [
        "Ques 49"
      ],
      "metadata": {
        "id": "83Hn3qhvzlKo"
      }
    },
    {
      "cell_type": "code",
      "source": [
        "class BankAccount():\n",
        "  def __init__(self,balance):\n",
        "    self.__balance = balance\n",
        "  def deposit(self,amount):\n",
        "    self.__balance += amount\n",
        "  def withdraw(self,amount):\n",
        "    if amount <= self.__balance:\n",
        "      self.__balance -= amount\n",
        "    else:\n",
        "      print(\"insufficient balance\")\n",
        "    def checkbalance(self):\n",
        "      return self.__balance"
      ],
      "metadata": {
        "id": "OsF7DB1o0-1V"
      },
      "execution_count": null,
      "outputs": []
    },
    {
      "cell_type": "markdown",
      "source": [
        "Ques 50"
      ],
      "metadata": {
        "id": "yff_o9W-1Ghj"
      }
    },
    {
      "cell_type": "code",
      "source": [
        "class Person():\n",
        "  def __init__(self,name,email):\n",
        "    self.__name = name\n",
        "    self.__email = email\n",
        "  def get_name(self):\n",
        "    return self.__name\n",
        "  def get_email(self):\n",
        "    return self.__email\n",
        "  def set_name(self,name):\n",
        "    self.__name = name\n",
        "  def set_email(self,email):\n",
        "    self.__email = email"
      ],
      "metadata": {
        "id": "PaqiGnfg1h8H"
      },
      "execution_count": null,
      "outputs": []
    },
    {
      "cell_type": "markdown",
      "source": [
        "Ques 51"
      ],
      "metadata": {
        "id": "p1YWLKYE1vmJ"
      }
    },
    {
      "cell_type": "markdown",
      "source": [
        "Encapsulation is act as a pillar in oops but it serves code security , that is it secure the code from unauthorised access and unwanted update in the data"
      ],
      "metadata": {
        "id": "8lKRAzZq1yHf"
      }
    },
    {
      "cell_type": "markdown",
      "source": [
        "Ques 52"
      ],
      "metadata": {
        "id": "MpO3DiAS2G7t"
      }
    },
    {
      "cell_type": "code",
      "source": [
        "def my_function(func):\n",
        "  def wrapper():\n",
        "    print(\"before execution\")\n",
        "    func()\n",
        "    print(\"after execution\")\n",
        "  return wrapper\n",
        "@my_function\n",
        "def my_function():\n",
        "  print(\"my function\")"
      ],
      "metadata": {
        "id": "UzrCRU_626RK"
      },
      "execution_count": null,
      "outputs": []
    },
    {
      "cell_type": "code",
      "source": [
        "my_function()"
      ],
      "metadata": {
        "colab": {
          "base_uri": "https://localhost:8080/"
        },
        "id": "DGthzb4O3M4x",
        "outputId": "36319e6d-3718-4b3c-bd41-f2030782c001"
      },
      "execution_count": null,
      "outputs": [
        {
          "output_type": "stream",
          "name": "stdout",
          "text": [
            "before execution\n",
            "my function\n",
            "after execution\n"
          ]
        }
      ]
    },
    {
      "cell_type": "markdown",
      "source": [
        "Ques 53"
      ],
      "metadata": {
        "id": "1RpThAlc3h4u"
      }
    },
    {
      "cell_type": "code",
      "source": [
        "def decorator_with_args(message):\n",
        "    def my_decorator(func):\n",
        "        def wrapper(*args, **kwargs):\n",
        "            print(f\"{func.__name__} - {message}\")\n",
        "            return func(*args, **kwargs)\n",
        "        return wrapper\n",
        "    return my_decorator\n",
        "@decorator_with_args(\"This is the message\")\n",
        "def my_function():\n",
        "    print(\"Function is running\")\n",
        "\n",
        "my_function()\n"
      ],
      "metadata": {
        "colab": {
          "base_uri": "https://localhost:8080/"
        },
        "id": "8_K-BFVF3jTx",
        "outputId": "03d87f99-ca2e-448c-d1de-cf4768a280c8"
      },
      "execution_count": null,
      "outputs": [
        {
          "output_type": "stream",
          "name": "stdout",
          "text": [
            "my_function - This is the message\n",
            "Function is running\n"
          ]
        }
      ]
    },
    {
      "cell_type": "markdown",
      "source": [
        "Ques 54"
      ],
      "metadata": {
        "id": "rE5E2O1Z-p9R"
      }
    },
    {
      "cell_type": "code",
      "source": [
        "def my1_decorator(func):\n",
        "    def wrapper():\n",
        "        print(\"before execution in first decorator\")\n",
        "        func()\n",
        "        print(\"after execution in first decorator\")\n",
        "    return wrapper\n",
        "def my2_decorator(func):\n",
        "    def wrapper():\n",
        "        print(\"before execution in second decorator\")\n",
        "        func()\n",
        "        print(\"after execution in second decorator\")\n",
        "    return wrapper"
      ],
      "metadata": {
        "id": "lYL6D5qCMmub"
      },
      "execution_count": null,
      "outputs": []
    },
    {
      "cell_type": "code",
      "source": [
        "@my1_decorator\n",
        "@my2_decorator\n",
        "def my_function():\n",
        "    print(\"my function\")"
      ],
      "metadata": {
        "id": "EJiGUsLnNC-e"
      },
      "execution_count": null,
      "outputs": []
    },
    {
      "cell_type": "code",
      "source": [
        "my_function()"
      ],
      "metadata": {
        "colab": {
          "base_uri": "https://localhost:8080/"
        },
        "id": "HbnDLEmeNL5k",
        "outputId": "69ffd7d2-7167-4629-a396-cd9388b8b437"
      },
      "execution_count": null,
      "outputs": [
        {
          "output_type": "stream",
          "name": "stdout",
          "text": [
            "before execution in first decorator\n",
            "before execution in second decorator\n",
            "my function\n",
            "after execution in second decorator\n",
            "after execution in first decorator\n"
          ]
        }
      ]
    },
    {
      "cell_type": "markdown",
      "source": [
        "Ques 55"
      ],
      "metadata": {
        "id": "dXb-J5xjOwAM"
      }
    },
    {
      "cell_type": "code",
      "source": [
        "def first_decorator(func):\n",
        "    def wrapper(*args):\n",
        "        print(\"First decorator executing\")\n",
        "        return func(*args)\n",
        "    return wrapper\n",
        "\n",
        "def second_decorator(func):\n",
        "    def wrapper(*args):\n",
        "        print(\"Second decorator executing\")\n",
        "        return func(*args)\n",
        "    return wrapper\n",
        "\n",
        "@first_decorator\n",
        "@second_decorator\n",
        "def my_function(arg1, arg2):\n",
        "    print(f\"Function is running with arguments {arg1} and {arg2}\")\n",
        "\n",
        "my_function('Hello', 'World')\n"
      ],
      "metadata": {
        "colab": {
          "base_uri": "https://localhost:8080/"
        },
        "id": "e_O99fUwOyrR",
        "outputId": "e79c56de-6249-4733-d435-70b675862079"
      },
      "execution_count": null,
      "outputs": [
        {
          "output_type": "stream",
          "name": "stdout",
          "text": [
            "First decorator executing\n",
            "Second decorator executing\n",
            "Function is running with arguments Hello and World\n"
          ]
        }
      ]
    },
    {
      "cell_type": "markdown",
      "source": [
        "Ques 56"
      ],
      "metadata": {
        "id": "gSkbnsEK4KlV"
      }
    },
    {
      "cell_type": "code",
      "source": [
        "from functools import wraps\n",
        "\n",
        "def my_decorator(func):\n",
        "    @wraps(func)\n",
        "    def wrapper(*args, **kwargs):\n",
        "        print(\"Decorator executing\")\n",
        "        return func(*args, **kwargs)\n",
        "    return wrapper\n",
        "\n",
        "@my_decorator\n",
        "def my_function():\n",
        "    print(\"Function is running\")\n",
        "\n",
        "print(my_function.__name__)\n",
        "print(my_function.__doc__)\n"
      ],
      "metadata": {
        "colab": {
          "base_uri": "https://localhost:8080/"
        },
        "id": "p062WjDe4Lon",
        "outputId": "47c857b8-7e27-468b-c1ac-1eaa2821d0d7"
      },
      "execution_count": 26,
      "outputs": [
        {
          "output_type": "stream",
          "name": "stdout",
          "text": [
            "my_function\n",
            "None\n"
          ]
        }
      ]
    },
    {
      "cell_type": "markdown",
      "source": [
        "Ques 57"
      ],
      "metadata": {
        "id": "osDuX5AVTFoM"
      }
    },
    {
      "cell_type": "code",
      "source": [
        "class calculator():\n",
        "  def add(x,y):\n",
        "    return x+y"
      ],
      "metadata": {
        "id": "7XynsS5PnJ0_"
      },
      "execution_count": null,
      "outputs": []
    },
    {
      "cell_type": "code",
      "source": [
        "calculator.add(5,6)"
      ],
      "metadata": {
        "colab": {
          "base_uri": "https://localhost:8080/"
        },
        "id": "F3w3xQrPnVim",
        "outputId": "695be34c-3596-42d3-f39c-9f49bd7767ea"
      },
      "execution_count": null,
      "outputs": [
        {
          "output_type": "execute_result",
          "data": {
            "text/plain": [
              "11"
            ]
          },
          "metadata": {},
          "execution_count": 50
        }
      ]
    },
    {
      "cell_type": "markdown",
      "source": [
        "Ques 58"
      ],
      "metadata": {
        "id": "fwcg8OLUnZHG"
      }
    },
    {
      "cell_type": "code",
      "source": [
        "class Employee():\n",
        "  total_employee = 0\n",
        "  def __init__(self,name):\n",
        "    self.name = name\n",
        "    Employee.total_employee = Employee.total_employee + 1\n",
        "  @classmethod\n",
        "  def get_total_employee(cls):\n",
        "    return cls.total_employee"
      ],
      "metadata": {
        "id": "Qt45q4Zhn2Oo"
      },
      "execution_count": null,
      "outputs": []
    },
    {
      "cell_type": "code",
      "source": [
        "emp1 = Employee(\"ram\")\n",
        "emp2 = Employee(\"shyam\")"
      ],
      "metadata": {
        "id": "yF5gbXOroby1"
      },
      "execution_count": null,
      "outputs": []
    },
    {
      "cell_type": "code",
      "source": [
        "Employee.total_employee"
      ],
      "metadata": {
        "colab": {
          "base_uri": "https://localhost:8080/"
        },
        "id": "QpKXgSOtof7t",
        "outputId": "453c3f72-31bf-4fe3-e709-4915be4d6d10"
      },
      "execution_count": null,
      "outputs": [
        {
          "output_type": "execute_result",
          "data": {
            "text/plain": [
              "2"
            ]
          },
          "metadata": {},
          "execution_count": 54
        }
      ]
    },
    {
      "cell_type": "markdown",
      "source": [
        "Ques 59"
      ],
      "metadata": {
        "id": "jLrEV-gVomCB"
      }
    },
    {
      "cell_type": "code",
      "source": [
        "class StringFormatter():\n",
        "  def __init__(self,string):\n",
        "    self.string = string\n",
        "  @staticmethod\n",
        "  def reverse_string(string):\n",
        "    return string[::-1]"
      ],
      "metadata": {
        "id": "MlbGR6eFoxhg"
      },
      "execution_count": null,
      "outputs": []
    },
    {
      "cell_type": "code",
      "source": [
        "StringFormatter.reverse_string(\"hello\")"
      ],
      "metadata": {
        "colab": {
          "base_uri": "https://localhost:8080/",
          "height": 35
        },
        "id": "qbk1QhiZpPPy",
        "outputId": "2cae0429-968f-4a91-bd84-70f1815a90ad"
      },
      "execution_count": null,
      "outputs": [
        {
          "output_type": "execute_result",
          "data": {
            "text/plain": [
              "'olleh'"
            ],
            "application/vnd.google.colaboratory.intrinsic+json": {
              "type": "string"
            }
          },
          "metadata": {},
          "execution_count": 56
        }
      ]
    },
    {
      "cell_type": "markdown",
      "source": [
        "Ques 60"
      ],
      "metadata": {
        "id": "Q1t3qWpVpUQc"
      }
    },
    {
      "cell_type": "code",
      "source": [
        "class Circle():\n",
        "  def __init__(self,radius):\n",
        "    self.radius = radius\n",
        "  @staticmethod\n",
        "  def area(radius):\n",
        "    return 3.14*radius*radius"
      ],
      "metadata": {
        "id": "HPhq_tSWpxzC"
      },
      "execution_count": null,
      "outputs": []
    },
    {
      "cell_type": "code",
      "source": [
        "Circle.area(5)"
      ],
      "metadata": {
        "colab": {
          "base_uri": "https://localhost:8080/"
        },
        "id": "ISRmpOQGqB78",
        "outputId": "3031661f-0a9b-4542-acc7-65c143972bb4"
      },
      "execution_count": null,
      "outputs": [
        {
          "output_type": "execute_result",
          "data": {
            "text/plain": [
              "78.5"
            ]
          },
          "metadata": {},
          "execution_count": 58
        }
      ]
    },
    {
      "cell_type": "markdown",
      "source": [
        "Ques 61"
      ],
      "metadata": {
        "id": "VD3j6L2dqFDJ"
      }
    },
    {
      "cell_type": "code",
      "source": [
        "class TempratureConverter():\n",
        "  def __init__(self,celsius):\n",
        "    self.celsius = celsius\n",
        "  @staticmethod\n",
        "  def celsius_to_fahrenheit(celsius):\n",
        "    return (celsius * 9/5) + 32"
      ],
      "metadata": {
        "id": "cctUmLjdqMkg"
      },
      "execution_count": null,
      "outputs": []
    },
    {
      "cell_type": "code",
      "source": [
        "TempratureConverter.celsius_to_fahrenheit(30)"
      ],
      "metadata": {
        "colab": {
          "base_uri": "https://localhost:8080/"
        },
        "id": "shb-mc7pqYen",
        "outputId": "9d155b4b-a8d8-46ca-9646-383c9cf98332"
      },
      "execution_count": null,
      "outputs": [
        {
          "output_type": "execute_result",
          "data": {
            "text/plain": [
              "86.0"
            ]
          },
          "metadata": {},
          "execution_count": 60
        }
      ]
    },
    {
      "cell_type": "markdown",
      "source": [
        "Ques 62"
      ],
      "metadata": {
        "id": "YAkObPCJqiso"
      }
    },
    {
      "cell_type": "markdown",
      "source": [
        "The __str__() method in Python classes is used to define a human-readable string representation of an object this method is called by built in print() statement. if you don't define a __str__() then then built in objrct implementations called the __repr__() method . the repr methods returns a more information rich string statement of the object"
      ],
      "metadata": {
        "id": "91SWsHgCrkwE"
      }
    },
    {
      "cell_type": "code",
      "source": [
        "import datetime\n",
        "\n",
        "mydate = datetime.datetime.now()\n",
        "\n",
        "print(\"__str__() string: \", mydate.__str__())\n",
        "print(\"str() string: \", str(mydate))\n",
        "\n",
        "print(\"__repr__() string: \", mydate.__repr__())\n",
        "print(\"repr() string: \", repr(mydate))"
      ],
      "metadata": {
        "colab": {
          "base_uri": "https://localhost:8080/"
        },
        "id": "0tYNJG0ZT1kf",
        "outputId": "f1326861-c0fd-4faa-d841-9c353f4b20a5"
      },
      "execution_count": 1,
      "outputs": [
        {
          "output_type": "stream",
          "name": "stdout",
          "text": [
            "__str__() string:  2024-06-19 02:24:53.503432\n",
            "str() string:  2024-06-19 02:24:53.503432\n",
            "__repr__() string:  datetime.datetime(2024, 6, 19, 2, 24, 53, 503432)\n",
            "repr() string:  datetime.datetime(2024, 6, 19, 2, 24, 53, 503432)\n"
          ]
        }
      ]
    },
    {
      "cell_type": "markdown",
      "source": [
        "Ques 63"
      ],
      "metadata": {
        "id": "GpvGlo5rUGLv"
      }
    },
    {
      "cell_type": "markdown",
      "source": [
        "the __len__() is used to find the length of the object in python in case of string is gives no of character in string in case of list tupple etc it gives no of objects in thst data type"
      ],
      "metadata": {
        "id": "kGP_EX__UIMm"
      }
    },
    {
      "cell_type": "code",
      "source": [
        "s = [1,2,3,4,5,6]\n",
        "print (\"len(s): \",len(s))\n",
        "print(\"s.__len__(): \",s.__len__())"
      ],
      "metadata": {
        "colab": {
          "base_uri": "https://localhost:8080/"
        },
        "id": "rJxYgDM5UdAQ",
        "outputId": "0d534d02-3b0e-4daf-c8cb-0070c385953d"
      },
      "execution_count": 4,
      "outputs": [
        {
          "output_type": "stream",
          "name": "stdout",
          "text": [
            "len(s):  6\n",
            "s.__len__():  6\n"
          ]
        }
      ]
    },
    {
      "cell_type": "markdown",
      "source": [
        "Ques 64"
      ],
      "metadata": {
        "id": "3bMv4CIAVC6R"
      }
    },
    {
      "cell_type": "markdown",
      "source": [
        "__add__() is used to add two objects in python in case of integer it return the sum of two numbwrs in case of strings it return the concatenation of two strings"
      ],
      "metadata": {
        "id": "Cqr1CQ70Vey-"
      }
    },
    {
      "cell_type": "code",
      "source": [
        "\"hello\".__add__(\"world\")"
      ],
      "metadata": {
        "colab": {
          "base_uri": "https://localhost:8080/",
          "height": 35
        },
        "id": "Jx5r7QseVk2Y",
        "outputId": "aaf345e8-e44a-4c91-ab1e-76a866501592"
      },
      "execution_count": 5,
      "outputs": [
        {
          "output_type": "execute_result",
          "data": {
            "text/plain": [
              "'helloworld'"
            ],
            "application/vnd.google.colaboratory.intrinsic+json": {
              "type": "string"
            }
          },
          "metadata": {},
          "execution_count": 5
        }
      ]
    },
    {
      "cell_type": "code",
      "source": [
        "(3).__add__(5)"
      ],
      "metadata": {
        "colab": {
          "base_uri": "https://localhost:8080/"
        },
        "id": "OAaEn4UpVrwo",
        "outputId": "c44c2773-225d-4f27-bd06-87313d7ed8c5"
      },
      "execution_count": 7,
      "outputs": [
        {
          "output_type": "execute_result",
          "data": {
            "text/plain": [
              "8"
            ]
          },
          "metadata": {},
          "execution_count": 7
        }
      ]
    },
    {
      "cell_type": "markdown",
      "source": [
        "Ques 65"
      ],
      "metadata": {
        "id": "KOY6k7eVV0tH"
      }
    },
    {
      "cell_type": "markdown",
      "source": [
        "__getitem__is used to get the item from object like tuples list etc__getitem__() is used to implement calls like self[key]"
      ],
      "metadata": {
        "id": "7PeYQmL7gWBU"
      }
    },
    {
      "cell_type": "code",
      "source": [
        "class Person:\n",
        "    def __init__(self,name,age):\n",
        "        self.name = name\n",
        "        self.age = age\n",
        "\n",
        "    def __getitem__(self,key):\n",
        "        print (\"Inside `__getitem__` method!\")\n",
        "        return getattr(self,key)\n",
        "\n",
        "p = Person(\"Subhayan\",32)\n",
        "print (p[\"age\"])"
      ],
      "metadata": {
        "colab": {
          "base_uri": "https://localhost:8080/"
        },
        "id": "gcwbEHRqgkV7",
        "outputId": "170c45d5-3881-4dcc-8864-ff1f13d82aa7"
      },
      "execution_count": 9,
      "outputs": [
        {
          "output_type": "stream",
          "name": "stdout",
          "text": [
            "Inside `__getitem__` method!\n",
            "32\n"
          ]
        }
      ]
    },
    {
      "cell_type": "markdown",
      "source": [
        "Ques 66"
      ],
      "metadata": {
        "id": "yRXJo-xFg4Sl"
      }
    },
    {
      "cell_type": "markdown",
      "source": [
        "the __iter__ is used to make the object iterable in python and __next__ is used to take the next value to the current pointed value"
      ],
      "metadata": {
        "id": "t5RjuIdBh60W"
      }
    },
    {
      "cell_type": "code",
      "source": [
        "s = [1,2,3,4,5,6]\n",
        "it = s.__iter__()\n",
        "print(next(it))\n",
        "print(next(it))"
      ],
      "metadata": {
        "colab": {
          "base_uri": "https://localhost:8080/"
        },
        "id": "j1_R4iIKiuM2",
        "outputId": "7a84cca3-91a5-4c13-ecfe-26af22c665dc"
      },
      "execution_count": 10,
      "outputs": [
        {
          "output_type": "stream",
          "name": "stdout",
          "text": [
            "1\n",
            "2\n"
          ]
        }
      ]
    },
    {
      "cell_type": "code",
      "source": [
        "print(it.__next__())"
      ],
      "metadata": {
        "colab": {
          "base_uri": "https://localhost:8080/"
        },
        "id": "NajNmx4djD_M",
        "outputId": "d93c9a30-d046-47f8-8f98-500b8b4d369e"
      },
      "execution_count": 11,
      "outputs": [
        {
          "output_type": "stream",
          "name": "stdout",
          "text": [
            "3\n"
          ]
        }
      ]
    },
    {
      "cell_type": "markdown",
      "source": [
        "Ques 67"
      ],
      "metadata": {
        "id": "-FAl4PW1jJbD"
      }
    },
    {
      "cell_type": "markdown",
      "source": [
        "getter method is used to acces the private variable of that  class"
      ],
      "metadata": {
        "id": "YhHpQFv-mj1y"
      }
    },
    {
      "cell_type": "code",
      "source": [
        "class Maths():\n",
        "  def __init__(self):\n",
        "    self.__marks = 100\n",
        "  def get_marks(self):\n",
        "    return self.__marks\n",
        "  def set_marks(self,marks):\n",
        "    self.__marks = marks\n"
      ],
      "metadata": {
        "id": "e30J8hh1mpeW"
      },
      "execution_count": 19,
      "outputs": []
    },
    {
      "cell_type": "code",
      "source": [
        "maths = Maths()\n",
        "maths.get_marks()"
      ],
      "metadata": {
        "colab": {
          "base_uri": "https://localhost:8080/"
        },
        "id": "pY2WhYUwnQ_8",
        "outputId": "c872a8f4-47eb-4e95-ce20-159a958bde76"
      },
      "execution_count": 20,
      "outputs": [
        {
          "output_type": "execute_result",
          "data": {
            "text/plain": [
              "100"
            ]
          },
          "metadata": {},
          "execution_count": 20
        }
      ]
    },
    {
      "cell_type": "markdown",
      "source": [
        "Ques 68"
      ],
      "metadata": {
        "id": "TKdbaopHpqgU"
      }
    },
    {
      "cell_type": "markdown",
      "source": [
        "setter is used to update or set the value of private variables in python"
      ],
      "metadata": {
        "id": "OyUzUWpRpu8c"
      }
    },
    {
      "cell_type": "code",
      "source": [
        "maths.set_marks(90)\n"
      ],
      "metadata": {
        "id": "WwB_1T8mpj1r"
      },
      "execution_count": 21,
      "outputs": []
    },
    {
      "cell_type": "code",
      "source": [
        "maths.get_marks()"
      ],
      "metadata": {
        "colab": {
          "base_uri": "https://localhost:8080/"
        },
        "id": "WNWTYLQupoCZ",
        "outputId": "761d892d-0dfa-481d-8b7d-ed8dce63525f"
      },
      "execution_count": 22,
      "outputs": [
        {
          "output_type": "execute_result",
          "data": {
            "text/plain": [
              "90"
            ]
          },
          "metadata": {},
          "execution_count": 22
        }
      ]
    },
    {
      "cell_type": "markdown",
      "source": [
        "Ques 69"
      ],
      "metadata": {
        "id": "g5J1CcVJp2Ve"
      }
    },
    {
      "cell_type": "markdown",
      "source": [
        "The @property decorator in Python is used to create getter methods for class attributes, allowing you to access them as if they were properties without parentheses. It also enables you to define setter and deleter methods associated with the property, providing a way to encapsulate data access and control attribute access."
      ],
      "metadata": {
        "id": "X-Of1c7svr8b"
      }
    },
    {
      "cell_type": "code",
      "source": [
        "class Circle:\n",
        "    def __init__(self, radius):\n",
        "        self._radius = radius\n",
        "\n",
        "    @property\n",
        "    def radius(self):\n",
        "        return self._radius\n",
        "\n",
        "    @radius.setter\n",
        "    def radius(self, value):\n",
        "        if value >= 0:\n",
        "            self._radius = value\n",
        "        else:\n",
        "            raise ValueError(\"Radius must be non-negative\")\n",
        "\n",
        "    @radius.deleter\n",
        "    def radius(self):\n",
        "        del self._radius\n",
        "\n",
        "c = Circle(5)\n",
        "print(c.radius)\n",
        "c.radius = 10\n",
        "del c.radius\n"
      ],
      "metadata": {
        "colab": {
          "base_uri": "https://localhost:8080/"
        },
        "id": "orqOSQ1xvz_3",
        "outputId": "d1fd74ff-04e2-46a1-f394-a9c14d680d91"
      },
      "execution_count": 23,
      "outputs": [
        {
          "output_type": "stream",
          "name": "stdout",
          "text": [
            "5\n"
          ]
        }
      ]
    },
    {
      "cell_type": "markdown",
      "source": [
        "Ques 70"
      ],
      "metadata": {
        "id": "9vNQgTnAwwzM"
      }
    },
    {
      "cell_type": "markdown",
      "source": [
        "@deleter is used to delete the attributes in python . iit deletes the values of property atributes in python"
      ],
      "metadata": {
        "id": "_8au0DZxw5YI"
      }
    },
    {
      "cell_type": "code",
      "source": [
        "class Product:\n",
        "    def __init__(self, name, price):\n",
        "        self._name = name\n",
        "        self._price = price\n",
        "\n",
        "    @property\n",
        "    def price(self):\n",
        "        return self._price\n",
        "\n",
        "    @price.deleter\n",
        "    def price(self):\n",
        "        print(f\"Deleting price of {self._name}\")\n",
        "        del self._price\n",
        "p = Product('Laptop', 1500)\n",
        "print(p.price)\n",
        "del p.price\n"
      ],
      "metadata": {
        "colab": {
          "base_uri": "https://localhost:8080/"
        },
        "id": "dHpO05rDxDcG",
        "outputId": "f99d6cd8-23b5-4eb9-f285-2e972092e3ea"
      },
      "execution_count": 24,
      "outputs": [
        {
          "output_type": "stream",
          "name": "stdout",
          "text": [
            "1500\n",
            "Deleting price of Laptop\n"
          ]
        }
      ]
    },
    {
      "cell_type": "markdown",
      "source": [
        "Ques 71"
      ],
      "metadata": {
        "id": "KmVvfo9h3iWj"
      }
    },
    {
      "cell_type": "code",
      "source": [
        "class Account:\n",
        "    def __init__(self, owner, balance):\n",
        "        self._owner = owner\n",
        "        self._balance = balance\n",
        "\n",
        "    @property\n",
        "    def balance(self):\n",
        "        return self._balance\n",
        "\n",
        "    @balance.setter\n",
        "    def balance(self, value):\n",
        "        if value < 0:\n",
        "            raise ValueError(\"Balance cannot be negative\")\n",
        "        self._balance = value\n",
        "\n",
        "# Usage\n",
        "acc = Account('arjun', 1000)\n",
        "print(acc.balance)\n",
        "acc.balance = 500\n"
      ],
      "metadata": {
        "colab": {
          "base_uri": "https://localhost:8080/"
        },
        "id": "1A2EdLi23jt8",
        "outputId": "0f2e3ce1-f607-426a-9541-4f7f9aef1e99"
      },
      "execution_count": 25,
      "outputs": [
        {
          "output_type": "stream",
          "name": "stdout",
          "text": [
            "1000\n"
          ]
        }
      ]
    }
  ]
}